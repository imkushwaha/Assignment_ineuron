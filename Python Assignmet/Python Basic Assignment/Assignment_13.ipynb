{
 "cells": [
  {
   "cell_type": "markdown",
   "metadata": {},
   "source": [
    "# Python Basic Assignment: Solution_13"
   ]
  },
  {
   "cell_type": "markdown",
   "metadata": {},
   "source": [
    "#### 1. What advantages do Excel spreadsheets have over CSV spreadsheets?"
   ]
  },
  {
   "cell_type": "markdown",
   "metadata": {},
   "source": [
    "Answer:\n",
    "\n",
    "- As excel saves the data in binary file format, Image data can be easily stored in the same. While it is not possible to save Image related data in CSV spreadsheets.\n",
    "\n",
    "\n",
    "- MS Excel can easily save data like charts.\n",
    "\n",
    "\n",
    "- MS Excel files can be connected with the external data sources, and add-ins can be enabled."
   ]
  },
  {
   "cell_type": "markdown",
   "metadata": {},
   "source": [
    "#### 2.What do you pass to csv.reader() and csv.writer() to create reader and writer objects?"
   ]
  },
  {
   "cell_type": "markdown",
   "metadata": {},
   "source": [
    "Answer: \n",
    "\n",
    "- In csv.reader(), we pass \"iterable\" object so that in each iteration a row will be returned.\n",
    "\n",
    "\n",
    "- In csv.writer(), we pass The \"fileobj\" that can be any object that supports the file API, and writer object converts the user's data into a delimited string."
   ]
  },
  {
   "cell_type": "markdown",
   "metadata": {},
   "source": [
    "#### 3. What modes do File objects for reader and writer objects need to be opened in?"
   ]
  },
  {
   "cell_type": "markdown",
   "metadata": {},
   "source": [
    "Answer:\n",
    "\n",
    "File objects for reader and writer objects need to be opened in:\n",
    "\n",
    "- For reader it should be opened in read mode, for that we use 'r'.\n",
    "\n",
    "\n",
    "- For wrietr it should be opened in write mode, for that we use 'w'."
   ]
  },
  {
   "cell_type": "markdown",
   "metadata": {},
   "source": [
    "#### 4. What method takes a list argument and writes it to a CSV file?"
   ]
  },
  {
   "cell_type": "markdown",
   "metadata": {},
   "source": [
    "Answer: For converting list into a csv file:\n",
    "\n",
    "- First we need to create a wrietr object after importing csv.\n",
    "- Then using writerows method in writer we can write each list under a list into csv file.\n",
    "\n",
    "example:\n",
    "\n",
    "my_list = [[1,2,3,4,5],[\"dog\", \"cat\", \"lion\", \"tiger\", \"rat\"]]\n",
    "\n",
    "\n",
    "- import csv\n",
    "\n",
    "\n",
    "- with open('file.csv', 'w', newline='') as f:\n",
    "    - writer = csv.writer(f)\n",
    "    - writer.writerows(my_list)"
   ]
  },
  {
   "cell_type": "markdown",
   "metadata": {},
   "source": [
    "#### 5. What do the keyword arguments delimiter and line terminator do?"
   ]
  },
  {
   "cell_type": "markdown",
   "metadata": {},
   "source": [
    "Answer: \n",
    "\n",
    "- line terminator: It is the character that comes at the end of a row. By default, the line terminator is a newline. \n",
    "\n",
    "\n",
    "- delimiter: The delimiter is the character that appears between cells on a row. For example in csv file format delimiter is comma, if we change delimiter to backslash then our value in cells get separated by that one only."
   ]
  },
  {
   "cell_type": "markdown",
   "metadata": {},
   "source": [
    "#### 6. What function takes a string of JSON data and returns a Python data structure?"
   ]
  },
  {
   "cell_type": "markdown",
   "metadata": {},
   "source": [
    "Answer:\n",
    "\n",
    "-  The load() function is used for conversion of JSON object into their respective Python objects.\n",
    "\n",
    "\n",
    "- This proces is the opposite of Serialization called  Deserialization."
   ]
  },
  {
   "cell_type": "markdown",
   "metadata": {},
   "source": [
    "#### 7. What function takes a Python data structure and returns a string of JSON data?"
   ]
  },
  {
   "cell_type": "markdown",
   "metadata": {},
   "source": [
    "Answer:\n",
    "\n",
    "- The JSON library in Python uses dump() function to convert the Python objects into their respective JSON object.\n",
    "\n",
    "\n",
    "- This process of encoding JSON is usually called serialization"
   ]
  }
 ],
 "metadata": {
  "kernelspec": {
   "display_name": "Python 3",
   "language": "python",
   "name": "python3"
  },
  "language_info": {
   "codemirror_mode": {
    "name": "ipython",
    "version": 3
   },
   "file_extension": ".py",
   "mimetype": "text/x-python",
   "name": "python",
   "nbconvert_exporter": "python",
   "pygments_lexer": "ipython3",
   "version": "3.7.9"
  }
 },
 "nbformat": 4,
 "nbformat_minor": 4
}
