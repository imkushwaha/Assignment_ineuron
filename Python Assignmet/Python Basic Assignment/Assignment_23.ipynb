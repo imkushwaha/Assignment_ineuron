{
 "cells": [
  {
   "cell_type": "markdown",
   "metadata": {},
   "source": [
    "# Python Basic Assignment: Solution_23"
   ]
  },
  {
   "cell_type": "markdown",
   "metadata": {},
   "source": [
    "#### 1. What is the result of the code, and why?\n",
    "- def func(a, b=6, c=8):\n",
    "---print(a, b, c)\n",
    "-func(1, 2)"
   ]
  },
  {
   "cell_type": "code",
   "execution_count": 1,
   "metadata": {},
   "outputs": [
    {
     "name": "stdout",
     "output_type": "stream",
     "text": [
      "1 2 8\n"
     ]
    }
   ],
   "source": [
    "#Answer:\n",
    "\n",
    "def func(a, b=6,c=8):\n",
    "    print(a,b,c)\n",
    "    \n",
    "func(1,2)    "
   ]
  },
  {
   "cell_type": "markdown",
   "metadata": {},
   "source": [
    "- Result of code is: 1, 2, 8. When we run func(1,2) basically 1 get assign to a and 2 get assign to b and c default value printed."
   ]
  },
  {
   "cell_type": "markdown",
   "metadata": {},
   "source": [
    "#### 2. What is the result of this code, and why?\n",
    "- def func(a, b, c=5):\n",
    "---print(a, b, c)\n",
    "-func(1, c=3, b=2)"
   ]
  },
  {
   "cell_type": "code",
   "execution_count": 2,
   "metadata": {},
   "outputs": [
    {
     "name": "stdout",
     "output_type": "stream",
     "text": [
      "1 2 3\n"
     ]
    }
   ],
   "source": [
    "#Answer:\n",
    "\n",
    "def func(a,b,c=5):\n",
    "    print(a,b,c)\n",
    "    \n",
    "func(1,c=3,b=2)    "
   ]
  },
  {
   "cell_type": "markdown",
   "metadata": {},
   "source": [
    "- Result of code is: 1, 2, 3. When we run func(1,c=3,b=2) basically 1 get assign to a and 3 get assign to c and 2 get assign to b. \n",
    "\n",
    "- Here we are overwritting the default values. parameter order does not matter assignmnet matter."
   ]
  },
  {
   "cell_type": "markdown",
   "metadata": {},
   "source": [
    "#### 3. How about this code: what is its result, and why?\n",
    "- def func(a, *pargs):\n",
    "---print(a, pargs)\n",
    "---func(1, 2, 3)"
   ]
  },
  {
   "cell_type": "code",
   "execution_count": 3,
   "metadata": {},
   "outputs": [
    {
     "name": "stdout",
     "output_type": "stream",
     "text": [
      "1 (2, 3)\n"
     ]
    }
   ],
   "source": [
    "#Answer:\n",
    "\n",
    "def func(a,*pargs):\n",
    "    print(a,pargs)\n",
    "\n",
    "func(1,2,3)    "
   ]
  },
  {
   "cell_type": "markdown",
   "metadata": {},
   "source": [
    "#### 4. What does this code print, and why?\n",
    "- def func(a, **kargs):\n",
    "---print(a, kargs)\n",
    "---func(a=1, c=3, b=2)"
   ]
  },
  {
   "cell_type": "code",
   "execution_count": 4,
   "metadata": {},
   "outputs": [
    {
     "name": "stdout",
     "output_type": "stream",
     "text": [
      "1 {'c': 3, 'b': 2}\n"
     ]
    }
   ],
   "source": [
    "#Answer:\n",
    "\n",
    "def func(a, **kargs):\n",
    "    print(a,kargs)\n",
    "    \n",
    "func(a=1,c=3,b=2)    "
   ]
  },
  {
   "cell_type": "markdown",
   "metadata": {},
   "source": [
    "#### 5. What gets printed by this, and explain?\n",
    "- def func(a, b, c=8, d=5): \n",
    "---print(a, b, c, d)\n",
    "- func(1, *(5, 6))"
   ]
  },
  {
   "cell_type": "code",
   "execution_count": 5,
   "metadata": {},
   "outputs": [
    {
     "name": "stdout",
     "output_type": "stream",
     "text": [
      "1 5 6 5\n"
     ]
    }
   ],
   "source": [
    "#Answer:\n",
    "\n",
    "def func(a,b, c= 8, d=5):\n",
    "    print(a,b,c,d)\n",
    "    \n",
    "func(1,*(5,6))"
   ]
  },
  {
   "cell_type": "markdown",
   "metadata": {},
   "source": [
    "#### 6. what is the result of this, and explain?\n",
    "- def func(a, b, c): \n",
    "---a = 2; b[0] = 'x'; c['a'] = 'y'\n",
    "---l=1; m=[1]; n={'a':0}\n",
    "---func(l, m, n)\n",
    "---l, m, n"
   ]
  },
  {
   "cell_type": "code",
   "execution_count": null,
   "metadata": {},
   "outputs": [],
   "source": []
  }
 ],
 "metadata": {
  "kernelspec": {
   "display_name": "Python 3",
   "language": "python",
   "name": "python3"
  },
  "language_info": {
   "codemirror_mode": {
    "name": "ipython",
    "version": 3
   },
   "file_extension": ".py",
   "mimetype": "text/x-python",
   "name": "python",
   "nbconvert_exporter": "python",
   "pygments_lexer": "ipython3",
   "version": "3.7.9"
  }
 },
 "nbformat": 4,
 "nbformat_minor": 4
}
