{
 "cells": [
  {
   "cell_type": "markdown",
   "metadata": {},
   "source": [
    "# Python Basic Assignment: Solution_10"
   ]
  },
  {
   "cell_type": "markdown",
   "metadata": {},
   "source": [
    "#### 1. How do you distinguish between shutil.copy() and shutil.copytree()?"
   ]
  },
  {
   "cell_type": "markdown",
   "metadata": {},
   "source": [
    "Answer: \n",
    "    \n",
    "Shutil.copy(): Copy data and mode bits. Return the file's destination. The destination may be a directory.\n",
    "\n",
    "Shutil.copytree(): Recursively copy a directory tree and return the destination directory."
   ]
  },
  {
   "cell_type": "markdown",
   "metadata": {},
   "source": [
    "#### 2. What function is used to rename files?"
   ]
  },
  {
   "cell_type": "markdown",
   "metadata": {},
   "source": [
    "Answer: The os.rename() method allows us to rename files."
   ]
  },
  {
   "cell_type": "markdown",
   "metadata": {},
   "source": [
    "#### 3. What is the difference between the delete functions in the send2trash and shutil modules?"
   ]
  },
  {
   "cell_type": "markdown",
   "metadata": {},
   "source": [
    "Answer: \n",
    "\n",
    "- The send2trash functions will move a file or folder to the recycle bin. \n",
    "- Shutil functions will permanently delete files and folders."
   ]
  },
  {
   "cell_type": "markdown",
   "metadata": {},
   "source": [
    "#### 4.ZipFile objects have a close() method just like File objects’ close() method. What ZipFile method is equivalent to File objects’ open() method?"
   ]
  },
  {
   "cell_type": "markdown",
   "metadata": {},
   "source": [
    "Answer: \n",
    "\n",
    "To create your own compressed ZIP files, we must open the ZipFile object in write mode by passing 'w' as the second argument. This is similar to opening a text file in write mode by passing 'w' to the open() function."
   ]
  },
  {
   "cell_type": "markdown",
   "metadata": {},
   "source": [
    "#### 5. Create a programme that searches a folder tree for files with a certain file extension (such as .pdf or .jpg). Copy these files from whatever location they are in to a new folder."
   ]
  },
  {
   "cell_type": "code",
   "execution_count": 1,
   "metadata": {},
   "outputs": [],
   "source": [
    "#Answer:\n",
    "\n",
    "def pdfjpgcopy(src,dst):\n",
    "    \n",
    "    '''\n",
    "    This pdfjpgcopy function will search for all pdfs & jpgs file present in src directory and copy those files \n",
    "    in dst directory. \n",
    "    \n",
    "    Note: Only workable when you have your files in one direcory not files in dir under dir.\n",
    "    \n",
    "    Parametrs:\n",
    "    \n",
    "    src --> path of directory from where you want to search for pdfs and jpgs.\n",
    "    \n",
    "    dst --> path of directory where you want to create copy of those files.\n",
    "    \n",
    "    '''\n",
    "    \n",
    "    \n",
    "    import os           # IMPORTING REQUIRED LIBRARIES\n",
    "    import shutil\n",
    "    main_list = []      # INTIALIZING A EMPTY LIST \n",
    "\n",
    "    for root, dirs, files in os.walk(src):\n",
    "        main_list.append(files)    #main_list WILL HAVE ALL FILES IN LIST OF LIST FORM\n",
    "    \n",
    "    pdf_files = []  #INTIALIZING EMPTY LIST TO STORE ALL PDF FILES IN IT\n",
    "    jpg_files = []  #INTIALIZING EMPTY LIST TO STORE ALL JPG FILES IN IT\n",
    "\n",
    "    for item in main_list:  #ITERATING THROUGH main_list AND SEPERATING pdf AND jpg FILES.\n",
    "        for i in item:\n",
    "            if i.split(\".\")[-1] ==\"pdf\":\n",
    "                pdf_files.append(i)\n",
    "            if i.split(\".\")[-1] ==\"jpg\":\n",
    "                jpg_files.append(i)\n",
    "            \n",
    "    for i in pdf_files:  #DOING COPY OF pdf AND JPG FILES FROM SRC TO DESTINATION FOLDER \n",
    "        shutil.copy(\"{a}\".format(a = src)+\"\\{b}\".format(b = i), f\"{dst}\", follow_symlinks=True)\n",
    "    \n",
    "    for i in jpg_files:\n",
    "        shutil.copy(\"{a}\".format(a = src)+\"\\{b}\".format(b = i), f\"{dst}\", follow_symlinks=True)       \n",
    "\n",
    "    print(\"Files successfully copied\")\n",
    "    \n",
    "    return \"Copied files are: {x}\".format(x = os.listdir(dst))"
   ]
  },
  {
   "cell_type": "code",
   "execution_count": 2,
   "metadata": {},
   "outputs": [
    {
     "name": "stdout",
     "output_type": "stream",
     "text": [
      "Files successfully copied\n"
     ]
    },
    {
     "data": {
      "text/plain": [
       "\"Copied files are: ['Amortized_Analysis.pdf', 'chisqtab.pdf', 'PicsArt_05-23-11.22.26.jpg', 'PicsArt_05-23-11.28.46.jpg', 'PicsArt_05-23-11.33.56.jpg', 'PicsArt_07-17-06.27.45.jpg', 'upendra_Resume.pdf']\""
      ]
     },
     "execution_count": 2,
     "metadata": {},
     "output_type": "execute_result"
    }
   ],
   "source": [
    "pdfjpgcopy(\"G:\\Testing\",\"G:\\Checking\")"
   ]
  },
  {
   "cell_type": "code",
   "execution_count": null,
   "metadata": {},
   "outputs": [],
   "source": []
  }
 ],
 "metadata": {
  "kernelspec": {
   "display_name": "Python 3",
   "language": "python",
   "name": "python3"
  },
  "language_info": {
   "codemirror_mode": {
    "name": "ipython",
    "version": 3
   },
   "file_extension": ".py",
   "mimetype": "text/x-python",
   "name": "python",
   "nbconvert_exporter": "python",
   "pygments_lexer": "ipython3",
   "version": "3.7.9"
  }
 },
 "nbformat": 4,
 "nbformat_minor": 4
}
