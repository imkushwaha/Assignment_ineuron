{
 "cells": [
  {
   "cell_type": "markdown",
   "metadata": {},
   "source": [
    "# Python Basic Programming Assignment_6"
   ]
  },
  {
   "cell_type": "markdown",
   "metadata": {},
   "source": [
    "#### 1.\tWrite a Python Program to Display Fibonacci Sequence Using Recursion?"
   ]
  },
  {
   "cell_type": "code",
   "execution_count": 22,
   "metadata": {},
   "outputs": [
    {
     "name": "stdout",
     "output_type": "stream",
     "text": [
      "Enter number of term: 8\n",
      "Fibonacci sequence for 8 term is:\n",
      "0\n",
      "1\n",
      "1\n",
      "2\n",
      "3\n",
      "5\n",
      "8\n",
      "13\n"
     ]
    }
   ],
   "source": [
    "#Answer\n",
    "\n",
    "#python program to display Fibonacci Sequence Using Recursion\n",
    "\n",
    "def fibo_seq(n):\n",
    "    \n",
    "   if n <= 1:\n",
    "       return n\n",
    "   else:\n",
    "       return(fibo_seq(n-1) + fibo_seq(n-2))\n",
    "\n",
    "nterms = int(input(\"Enter number of term: \"))\n",
    "\n",
    "# check if the number of terms is valid\n",
    "\n",
    "if nterms <= 0:\n",
    "   print(\"Plese enter a positive integer\")\n",
    "else:\n",
    "   print(f\"Fibonacci sequence for {nterms} term is:\")\n",
    "   for i in range(nterms):\n",
    "       print(fibo_seq(i))\n"
   ]
  },
  {
   "cell_type": "markdown",
   "metadata": {},
   "source": [
    "#### 2.\tWrite a Python Program to Find Factorial of Number Using Recursion?"
   ]
  },
  {
   "cell_type": "code",
   "execution_count": 24,
   "metadata": {},
   "outputs": [
    {
     "name": "stdout",
     "output_type": "stream",
     "text": [
      "Enter your number: 5\n",
      "The factorial of 5 is 120\n"
     ]
    }
   ],
   "source": [
    "#Answer\n",
    "\n",
    "#program to find factorial of number using recursion\n",
    "\n",
    "def factorial(n):\n",
    "      \n",
    "   if n == 1:\n",
    "       return n\n",
    "   else:\n",
    "       return n*factorial(n-1)\n",
    "\n",
    "num = int(input(\"Enter your number: \"))\n",
    "\n",
    "# check if the number is negative\n",
    "if num < 0:\n",
    "   print(\"Sorry, for negative numbers, factorial does not exist\")\n",
    "elif num == 0:\n",
    "   print(\"The factorial of 0 is 1\")\n",
    "else:\n",
    "   print(\"The factorial of\", num, \"is\", factorial(num))\n"
   ]
  },
  {
   "cell_type": "markdown",
   "metadata": {},
   "source": [
    "#### 3.\tWrite a Python Program to calculate your Body Mass Index?"
   ]
  },
  {
   "cell_type": "code",
   "execution_count": 25,
   "metadata": {},
   "outputs": [
    {
     "name": "stdout",
     "output_type": "stream",
     "text": [
      "Enter your weight in kilograms: 65\n",
      "Enter your height in meters: 1.55\n",
      "Your Body Mass Index is 27.06 kg/m2\n",
      "You are overweight !!!\n"
     ]
    }
   ],
   "source": [
    "#Answer\n",
    "\n",
    "#program to calculate your Body Mass Index\n",
    "\n",
    "#Body Mass Index is a simple calculation using a person's height and weight. \n",
    "#The formula is BMI = kg/m2 where kg is a person's weight in kilograms and m2 is their height in metres squared. \n",
    "#A BMI of 25.0 or more is overweight, while the healthy range is 18.5 to 24.9.\n",
    "\n",
    "weight = float(input(\"Enter your weight in kilograms: \"))\n",
    "\n",
    "height = float(input(\"Enter your height in meters: \"))\n",
    "\n",
    "bmi = round(weight/(height)**2,2)\n",
    "\n",
    "print(f\"Your Body Mass Index is {bmi} kg/m2\")\n",
    "\n",
    "if bmi<25:\n",
    "    print(\"Your BMI lies in healthy range\")\n",
    "else:\n",
    "    print(\"You are overweight !!!\")"
   ]
  },
  {
   "cell_type": "markdown",
   "metadata": {},
   "source": [
    "#### 4.\tWrite a Python Program to calculate the natural logarithm of any number?"
   ]
  },
  {
   "cell_type": "code",
   "execution_count": 26,
   "metadata": {},
   "outputs": [
    {
     "name": "stdout",
     "output_type": "stream",
     "text": [
      "Enter your number: 30\n",
      "Natural Log of 30 is : 3.40181\n",
      "30 is almost equal to number obtained by raising e to the power natural log: 30.00779813777279\n"
     ]
    }
   ],
   "source": [
    "#Answer\n",
    "\n",
    "#program to calculate the natural logarithm of any number\n",
    "\n",
    "#The power to which the base e (e = 2.718281828.......) must be raised to obtain a number is called the natural logarithm (ln) of the number.\n",
    "\n",
    "#Relationship between natural log and common log is : loge(x) = 2.303 * log10(x)\n",
    "\n",
    "#for common log we will use math.log10\n",
    "\n",
    "import math\n",
    "\n",
    "num = int(input(\"Enter your number: \"))\n",
    "\n",
    "nat_log = round(2.303 * math.log10(num),5)\n",
    "\n",
    "print(\"Natural Log of {} is : {}\".format(num,nat_log))\n",
    "\n",
    "#check: e must be raised to obtain the number. (e = 2.718)\n",
    "\n",
    "check = 2.718**nat_log\n",
    "\n",
    "print(\"{} is almost equal to number obtained by raising e to the power natural log: {}\".format(num,check))"
   ]
  },
  {
   "cell_type": "markdown",
   "metadata": {},
   "source": [
    "#### 5.\tWrite a Python Program for cube sum of first n natural numbers?"
   ]
  },
  {
   "cell_type": "code",
   "execution_count": 27,
   "metadata": {},
   "outputs": [
    {
     "name": "stdout",
     "output_type": "stream",
     "text": [
      "Enter your number: 5\n",
      "Cube of sum of first 5 natural numbers is 3375.0\n"
     ]
    }
   ],
   "source": [
    "#Answer\n",
    "\n",
    "#program to cube sum of first n natural numbers\n",
    "\n",
    "\n",
    "n = int(input(\"Enter your number: \"))\n",
    "\n",
    "n_sum = (n*(n+1))/2\n",
    "\n",
    "output = n_sum**3\n",
    "\n",
    "print(f\"Cube of sum of first {n} natural numbers is {output}\")"
   ]
  },
  {
   "cell_type": "code",
   "execution_count": null,
   "metadata": {},
   "outputs": [],
   "source": []
  }
 ],
 "metadata": {
  "kernelspec": {
   "display_name": "Python 3",
   "language": "python",
   "name": "python3"
  },
  "language_info": {
   "codemirror_mode": {
    "name": "ipython",
    "version": 3
   },
   "file_extension": ".py",
   "mimetype": "text/x-python",
   "name": "python",
   "nbconvert_exporter": "python",
   "pygments_lexer": "ipython3",
   "version": "3.7.9"
  }
 },
 "nbformat": 4,
 "nbformat_minor": 4
}
