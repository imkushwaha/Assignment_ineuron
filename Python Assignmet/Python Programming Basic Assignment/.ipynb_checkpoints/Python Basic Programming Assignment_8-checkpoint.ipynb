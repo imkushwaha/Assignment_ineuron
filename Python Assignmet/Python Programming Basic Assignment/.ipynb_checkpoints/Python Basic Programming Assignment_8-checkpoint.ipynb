{
 "cells": [
  {
   "cell_type": "markdown",
   "metadata": {},
   "source": [
    "# Python Basic Programming Assignment_8"
   ]
  },
  {
   "cell_type": "markdown",
   "metadata": {},
   "source": [
    "#### 1.\tWrite a Python Program to Add Two Matrices?"
   ]
  },
  {
   "cell_type": "code",
   "execution_count": 27,
   "metadata": {},
   "outputs": [
    {
     "name": "stdout",
     "output_type": "stream",
     "text": [
      "Addition of [[11, 7, 3], [5, 5, 7], [8, 8, 7]] & [[9, 8, 1], [7, 6, 3], [5, 4, 8]] matrices is: \n",
      "[20, 15, 4]\n",
      "[12, 11, 10]\n",
      "[13, 12, 15]\n"
     ]
    }
   ],
   "source": [
    "#Answer:\n",
    "\n",
    "# Program to add two matrices \n",
    "\n",
    "X = [[11,7,3],\n",
    "    [5 ,5,7],\n",
    "    [8 ,8,7]]\n",
    "\n",
    "Y = [[9,8,1],\n",
    "    [7,6,3],\n",
    "    [5,4,8]]\n",
    "\n",
    "result = [[0,0,0],\n",
    "         [0,0,0],\n",
    "         [0,0,0]]\n",
    "\n",
    "\n",
    "\n",
    "for i in range(len(X)):\n",
    "   \n",
    "   for j in range(len(X[0])):\n",
    "        result[i][j] = X[i][j] + Y[i][j]\n",
    "\n",
    "print(f\"Addition of {X} & {Y} matrices is: \")\n",
    "\n",
    "for r in result:\n",
    "    print(r)"
   ]
  },
  {
   "cell_type": "markdown",
   "metadata": {},
   "source": [
    "#### 2.\tWrite a Python Program to Multiply Two Matrices?"
   ]
  },
  {
   "cell_type": "code",
   "execution_count": 28,
   "metadata": {},
   "outputs": [
    {
     "name": "stdout",
     "output_type": "stream",
     "text": [
      "Multiplication of [[12, 9, 3], [5, 5, 6], [7, 8, 9]] & [[5, 8, 3, 2], [6, 6, 9, 0], [9, 5, 9, 1]] matrices is: \n",
      "[141, 165, 144, 27]\n",
      "[109, 100, 114, 16]\n",
      "[164, 149, 174, 23]\n"
     ]
    }
   ],
   "source": [
    "#Answer:\n",
    "\n",
    "# program to multiply two matrices\n",
    "\n",
    "# 3x3 matrix\n",
    "X = [[12,9,3],\n",
    "    [5 ,5,6],\n",
    "    [7 ,8,9]]\n",
    "\n",
    "# 3x4 matrix\n",
    "Y = [[5,8,3,2],\n",
    "    [6,6,9,0],\n",
    "    [9,5,9,1]]\n",
    "\n",
    "# result is 3x4\n",
    "result = [[0,0,0,0],\n",
    "         [0,0,0,0],\n",
    "         [0,0,0,0]]\n",
    "\n",
    "# iterating through rows of X\n",
    "for i in range(len(X)):\n",
    "    \n",
    "   # iterating through columns of Y\n",
    "   for j in range(len(Y[0])):\n",
    "        \n",
    "       # iterate through rows of Y\n",
    "       for k in range(len(Y)):\n",
    "            result[i][j] += X[i][k] * Y[k][j]\n",
    "            \n",
    "            \n",
    "print(f\"Multiplication of {X} & {Y} matrices is: \")\n",
    "            \n",
    "            \n",
    "for r in result:\n",
    "    print(r)"
   ]
  },
  {
   "cell_type": "markdown",
   "metadata": {},
   "source": [
    "#### 3.\tWrite a Python Program to Transpose a Matrix?"
   ]
  },
  {
   "cell_type": "code",
   "execution_count": 30,
   "metadata": {},
   "outputs": [
    {
     "name": "stdout",
     "output_type": "stream",
     "text": [
      "The Transpose of [[11, 6], [5, 4], [8, 9]] is: \n",
      "[11, 5, 8]\n",
      "[6, 4, 9]\n"
     ]
    }
   ],
   "source": [
    "#Answer:\n",
    "\n",
    "# Program to transpose a matrix using a nested loop\n",
    "\n",
    "X = [[11,6],\n",
    "    [5 ,4],\n",
    "    [8 ,9]]\n",
    "\n",
    "result = [[0,0,0],\n",
    "         [0,0,0]]\n",
    "\n",
    "# iterating through rows\n",
    "for i in range(len(X)):\n",
    "    \n",
    "   # iterating through columns\n",
    "   for j in range(len(X[0])):\n",
    "        \n",
    "        result[j][i] = X[i][j]\n",
    "        \n",
    "print(f\"The Transpose of {X} is: \")\n",
    "        \n",
    "for r in result:\n",
    "    print(r)"
   ]
  },
  {
   "cell_type": "markdown",
   "metadata": {},
   "source": [
    "#### 4.\tWrite a Python Program to Sort Words in Alphabetic Order?"
   ]
  },
  {
   "cell_type": "code",
   "execution_count": 55,
   "metadata": {},
   "outputs": [
    {
     "name": "stdout",
     "output_type": "stream",
     "text": [
      "Enter your words: zebra xray whale yellow cat dog mat sat king queen\n",
      "Sorted words are: \n",
      "cat\n",
      "dog\n",
      "king\n",
      "mat\n",
      "queen\n",
      "sat\n",
      "whale\n",
      "xray\n",
      "yellow\n",
      "zebra\n"
     ]
    }
   ],
   "source": [
    "#Answer:\n",
    "\n",
    "# program to sort words in Alphabetic Order:\n",
    "\n",
    "#words = [\"Upendra\", \"Anand\", \"Boakro\", \"Cat\", \"Zebra\"]\n",
    "\n",
    "my_str = str(input(\"Enter your words: \"))\n",
    "\n",
    "words = [word for word in my_str.split()]\n",
    "\n",
    "#sorting the word present in list \n",
    "words.sort()\n",
    "\n",
    "#printing the sorted words\n",
    "\n",
    "print(\"Sorted words are: \")\n",
    "for i in words:\n",
    "    print(i)"
   ]
  },
  {
   "cell_type": "markdown",
   "metadata": {},
   "source": [
    "#### 5.\tWrite a Python Program to Remove Punctuation From a String?"
   ]
  },
  {
   "cell_type": "code",
   "execution_count": 70,
   "metadata": {},
   "outputs": [
    {
     "name": "stdout",
     "output_type": "stream",
     "text": [
      "Enter a string: My name is Upendra Kumar!!!@ and i am from Bokaro Steel City<<<>>>> Jharkhand___. I am Puruing!!{{{}} Full@@ Stack!!! Data Science at!!! !!ineuron.ai$$$$\n",
      "\n",
      "\n",
      " Upunctuated string: My name is Upendra Kumar and i am from Bokaro Steel City Jharkhand I am Puruing Full Stack Data Science at ineuronai\n"
     ]
    }
   ],
   "source": [
    "#Answer:\n",
    "\n",
    "# program to remove punctuation from a string\n",
    "\n",
    "# let's define first punctuation\n",
    "\n",
    "punctuation = '''!()-[]{};:'\"\\,<>./?@#$%^&*_~'''\n",
    "\n",
    "#my_str = \"Hello!!!, he said ---and went.\"\n",
    "\n",
    "# Taking input from the user\n",
    "my_str = input(\"Enter a string: \")\n",
    "\n",
    "# remove punctuation from the string\n",
    "no_punct = \"\"\n",
    "for char in my_str:\n",
    "   if char not in punctuation:\n",
    "       no_punct = no_punct + char\n",
    "\n",
    "# printing the unpunctuated string\n",
    "print(f\"\\n\\n Upunctuated string: {no_punct}\")"
   ]
  },
  {
   "cell_type": "code",
   "execution_count": null,
   "metadata": {},
   "outputs": [],
   "source": []
  }
 ],
 "metadata": {
  "kernelspec": {
   "display_name": "Python 3",
   "language": "python",
   "name": "python3"
  },
  "language_info": {
   "codemirror_mode": {
    "name": "ipython",
    "version": 3
   },
   "file_extension": ".py",
   "mimetype": "text/x-python",
   "name": "python",
   "nbconvert_exporter": "python",
   "pygments_lexer": "ipython3",
   "version": "3.7.9"
  }
 },
 "nbformat": 4,
 "nbformat_minor": 4
}
