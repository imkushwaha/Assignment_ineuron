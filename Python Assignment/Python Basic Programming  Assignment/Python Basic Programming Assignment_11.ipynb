{
 "cells": [
  {
   "cell_type": "markdown",
   "metadata": {},
   "source": [
    "# Python Basic Programming Assignment_11"
   ]
  },
  {
   "cell_type": "markdown",
   "metadata": {},
   "source": [
    "#### 1.\tWrite a Python program to find words which are greater than given length k?"
   ]
  },
  {
   "cell_type": "code",
   "execution_count": 17,
   "metadata": {},
   "outputs": [
    {
     "data": {
      "text/plain": [
       "['corona-virus', 'bilateraltalk', 'sunriseapartment', 'youarewelcome']"
      ]
     },
     "execution_count": 17,
     "metadata": {},
     "output_type": "execute_result"
    }
   ],
   "source": [
    "#Answer:\n",
    "\n",
    "given_length = 8\n",
    "\n",
    "def words_grtr_than_given_length(l):\n",
    "    new_list = []\n",
    "    for word in l:\n",
    "        word = word.lower()\n",
    "        if len(word)>given_length:\n",
    "            new_list.append(word)\n",
    "            \n",
    "    return new_list\n",
    "\n",
    "l = [\"car\", \"dog\", \"upendra\", \"kumar\", \"icecream\", \"football\", \"corona-virus\", \"hospital\", \"bilateraltalk\", \"sunriseapartment\", \"youarewelcome\"]\n",
    "\n",
    "words_grtr_than_given_length(l)"
   ]
  },
  {
   "cell_type": "markdown",
   "metadata": {},
   "source": [
    "#### 2.\tWrite a Python program for removing i-th character from a string?"
   ]
  },
  {
   "cell_type": "code",
   "execution_count": 41,
   "metadata": {},
   "outputs": [
    {
     "data": {
      "text/plain": [
       "'upedra'"
      ]
     },
     "execution_count": 41,
     "metadata": {},
     "output_type": "execute_result"
    }
   ],
   "source": [
    "#Answer:\n",
    "\n",
    "x = \"upendra\"\n",
    "\n",
    "def remove_ith_char(word,index):\n",
    "    \n",
    "    \"\"\"Function to remove i-th character from a string.\n",
    "    \n",
    "       Arguments\n",
    "                word: string to remove i-th character\n",
    "                index: index number in int \n",
    "    \n",
    "    \"\"\"\n",
    "    remove_char = word[index]\n",
    "    \n",
    "    new_word = \"\"\n",
    "    for char in word:\n",
    "        if char == remove_char:\n",
    "            continue\n",
    "        new_word = new_word + char\n",
    "            \n",
    "    return new_word \n",
    "\n",
    "remove_ith_char(\"upendra\",3)"
   ]
  },
  {
   "cell_type": "code",
   "execution_count": 42,
   "metadata": {},
   "outputs": [
    {
     "data": {
      "text/plain": [
       "'upenra'"
      ]
     },
     "execution_count": 42,
     "metadata": {},
     "output_type": "execute_result"
    }
   ],
   "source": [
    "#Another approach\n",
    "\n",
    "word = \"upendra\"\n",
    "\n",
    "def remove_ith_char2(word,index):\n",
    "    remove_char = word[index]\n",
    "    \n",
    "    new_word = word.replace(remove_char,\"\")\n",
    "    \n",
    "    return new_word\n",
    "\n",
    "remove_ith_char2(\"upendra\",4)"
   ]
  },
  {
   "cell_type": "markdown",
   "metadata": {},
   "source": [
    "#### 3.\tWrite a Python program to split and join a string?"
   ]
  },
  {
   "cell_type": "code",
   "execution_count": 55,
   "metadata": {},
   "outputs": [
    {
     "data": {
      "text/plain": [
       "(['Data',\n",
       "  'science',\n",
       "  'is',\n",
       "  'a',\n",
       "  'most',\n",
       "  'demanding',\n",
       "  'technology',\n",
       "  'now',\n",
       "  'a',\n",
       "  'days.'],\n",
       " 'Data science is a most demanding technology now a days.')"
      ]
     },
     "execution_count": 55,
     "metadata": {},
     "output_type": "execute_result"
    }
   ],
   "source": [
    "#Answer:\n",
    "\n",
    "# python program to split and join a string\n",
    "\n",
    "string = \"Data science is a most demanding technology now a days.\"\n",
    "\n",
    "def split_join(string):\n",
    "    \n",
    "    word_list = string.split(\" \")\n",
    "    \n",
    "    new_string = \" \".join(i for i in word_list)\n",
    "    \n",
    "    return word_list, new_string\n",
    "\n",
    "split_join(string)"
   ]
  },
  {
   "cell_type": "markdown",
   "metadata": {},
   "source": [
    "#### 4.\tWrite a Python to check if a given string is binary string or not?"
   ]
  },
  {
   "cell_type": "code",
   "execution_count": 65,
   "metadata": {},
   "outputs": [
    {
     "name": "stdout",
     "output_type": "stream",
     "text": [
      "Yes, Given String is Binary String\n"
     ]
    }
   ],
   "source": [
    "#Answer:\n",
    "\n",
    "# Python program to check if a string is binary or not\n",
    "\n",
    "\n",
    "def check_binary(string) :\n",
    "    \n",
    "    # declare set of '0', '1' .\n",
    "    s = {'0', '1'}\n",
    "    \n",
    "    p = set(string)\n",
    "    \n",
    "    if s == p or p == {'0'} or p == {'1'}:\n",
    "        print(\"Yes, Given String is Binary String\")\n",
    "    else :\n",
    "        print(\"No, Given String is Not Binary String\")\n",
    "\n",
    "\n",
    "string = \"101010000111\"\n",
    "# function calling\n",
    "check_binary(string)"
   ]
  },
  {
   "cell_type": "markdown",
   "metadata": {},
   "source": [
    "#### 5.\tWrite a Python program to find uncommon words from two Strings?"
   ]
  },
  {
   "cell_type": "code",
   "execution_count": 73,
   "metadata": {},
   "outputs": [
    {
     "name": "stdout",
     "output_type": "stream",
     "text": [
      "['upendra', 'aryan']\n"
     ]
    }
   ],
   "source": [
    "#Answer:\n",
    "\n",
    "# Python program to find a list of uncommon words\n",
    "\n",
    "\n",
    "def UncommonWords(A, B):\n",
    "    \n",
    "   #count will contain all the word counts\n",
    "   count = {}\n",
    "\n",
    "   \n",
    "   for word in A.split():\n",
    "        count[word] = count.get(word, 0) + 1\n",
    "\n",
    "        \n",
    "    for word in B.split():\n",
    "        count[word] = count.get(word, 0) + 1\n",
    "\n",
    "   #return required list of words\n",
    "   return [word for word in count if count[word] == 1]\n",
    "\n",
    "\n",
    "A = \"My name is upendra kumar\"\n",
    "B = \"My name is aryan kumar\"\n",
    "\n",
    "\n",
    "print(UncommonWords(A, B))"
   ]
  },
  {
   "cell_type": "markdown",
   "metadata": {},
   "source": [
    "#### 6.\tWrite a Python to find all duplicate characters in string?"
   ]
  },
  {
   "cell_type": "code",
   "execution_count": 46,
   "metadata": {},
   "outputs": [
    {
     "data": {
      "text/plain": [
       "\"Duplicate characters present in this string are: {'u', 'd', 'n'}\""
      ]
     },
     "execution_count": 46,
     "metadata": {},
     "output_type": "execute_result"
    }
   ],
   "source": [
    "#Answer:\n",
    "\n",
    "string = \"UuPeNnDdra\"\n",
    "\n",
    "def duplicate_char(string):\n",
    "    \n",
    "    string = string.lower()\n",
    "    \n",
    "    count = {}\n",
    "    for i in string:\n",
    "        count[i] = count.get(i, 0) + 1\n",
    "        \n",
    "    main_list = []  \n",
    "    \n",
    "    for i in string:\n",
    "        if count[i]>1:\n",
    "            main_list.append(i)\n",
    "            \n",
    "    duplicate_characters = set(main_list)\n",
    "    \n",
    "    if len(duplicate_characters)==0:\n",
    "        return \"No duplicate characters present\"\n",
    "    \n",
    "    return f\"Duplicate characters present in this string are: {duplicate_characters}\"\n",
    "\n",
    "# calling function\n",
    "\n",
    "duplicate_char(string)"
   ]
  },
  {
   "cell_type": "markdown",
   "metadata": {},
   "source": [
    "#### 7.\tWrite a Python Program to check if a string contains any special character?"
   ]
  },
  {
   "cell_type": "code",
   "execution_count": 7,
   "metadata": {},
   "outputs": [],
   "source": [
    "#Answer:\n",
    "\n",
    "# program to check if string contains any special character\n",
    "\n",
    "\n",
    "def string_special_char_check(string):\n",
    "    special_charecter = \"!@#$%^&*()<>/|[]{}~?\\|\"\n",
    "    spcl_list = []\n",
    "    for i in string:\n",
    "        if i in special_charecter:\n",
    "            spcl_list.append(i)\n",
    "        \n",
    "    if len(spcl_list)>0:\n",
    "        return \"String contains special character\"\n",
    "    else:\n",
    "        return \"String does not contains any special character\"\n",
    "        "
   ]
  },
  {
   "cell_type": "code",
   "execution_count": 10,
   "metadata": {},
   "outputs": [
    {
     "data": {
      "text/plain": [
       "'String contains special character'"
      ]
     },
     "execution_count": 10,
     "metadata": {},
     "output_type": "execute_result"
    }
   ],
   "source": [
    "string = \"iNe#uron!\"\n",
    "\n",
    "#calling function\n",
    "\n",
    "string_special_char_check(string)"
   ]
  },
  {
   "cell_type": "code",
   "execution_count": 11,
   "metadata": {},
   "outputs": [
    {
     "data": {
      "text/plain": [
       "'String does not contains any special character'"
      ]
     },
     "execution_count": 11,
     "metadata": {},
     "output_type": "execute_result"
    }
   ],
   "source": [
    "string = \"iNeuron\"\n",
    "\n",
    "#calling function\n",
    "\n",
    "string_special_char_check(string)"
   ]
  },
  {
   "cell_type": "code",
   "execution_count": null,
   "metadata": {},
   "outputs": [],
   "source": []
  }
 ],
 "metadata": {
  "kernelspec": {
   "display_name": "Python 3",
   "language": "python",
   "name": "python3"
  },
  "language_info": {
   "codemirror_mode": {
    "name": "ipython",
    "version": 3
   },
   "file_extension": ".py",
   "mimetype": "text/x-python",
   "name": "python",
   "nbconvert_exporter": "python",
   "pygments_lexer": "ipython3",
   "version": "3.7.4"
  }
 },
 "nbformat": 4,
 "nbformat_minor": 2
}
