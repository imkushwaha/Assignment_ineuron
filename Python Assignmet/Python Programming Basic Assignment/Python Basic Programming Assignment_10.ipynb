{
 "cells": [
  {
   "cell_type": "markdown",
   "metadata": {},
   "source": [
    "# Python Basic Programming Assignment_10"
   ]
  },
  {
   "cell_type": "markdown",
   "metadata": {},
   "source": [
    "#### 1.\tWrite a Python program to find sum of elements in list?"
   ]
  },
  {
   "cell_type": "code",
   "execution_count": 5,
   "metadata": {},
   "outputs": [
    {
     "name": "stdout",
     "output_type": "stream",
     "text": [
      "sum of elements in [1, 2, 3, 4, 5, 6, 7, 8, 9] is: 45\n"
     ]
    }
   ],
   "source": [
    "#Answer:\n",
    "\n",
    "# program to find sum of elements in list\n",
    "\n",
    "l = [1,2,3,4,5,6,7,8,9]\n",
    "\n",
    "add = 0\n",
    "\n",
    "for i in l:\n",
    "    add = add+i\n",
    "    \n",
    "    \n",
    "print(f\"sum of elements in {l} is: {add}\")"
   ]
  },
  {
   "cell_type": "markdown",
   "metadata": {},
   "source": [
    "#### 2.\tWrite a Python program to  Multiply all numbers in the list?"
   ]
  },
  {
   "cell_type": "code",
   "execution_count": 9,
   "metadata": {},
   "outputs": [
    {
     "name": "stdout",
     "output_type": "stream",
     "text": [
      "Product of elements in [5, 6, 7, 2, 5] is: 2100\n"
     ]
    }
   ],
   "source": [
    "#Answer:\n",
    "\n",
    "# program to multiply all numbers in the list\n",
    "\n",
    "l = [5,6,7,2,5]\n",
    "\n",
    "product = 1\n",
    "\n",
    "for i in l:\n",
    "    product = product*i\n",
    "\n",
    "print(f\"Product of elements in {l} is: {product}\")    "
   ]
  },
  {
   "cell_type": "markdown",
   "metadata": {},
   "source": [
    "#### 3.\tWrite a Python program to find smallest number in a list?"
   ]
  },
  {
   "cell_type": "code",
   "execution_count": 25,
   "metadata": {},
   "outputs": [
    {
     "name": "stdout",
     "output_type": "stream",
     "text": [
      "The Smallest element of list [11, 23, 26, 44, 47, 52, 85] is: 11\n"
     ]
    }
   ],
   "source": [
    "#Answer:\n",
    "\n",
    "# program to find smallest number in a list\n",
    "\n",
    "l = [85,44,52,47,23,11,26]\n",
    "\n",
    "#sorting list in ascending order\n",
    "l.sort()\n",
    "\n",
    "#smallest number \n",
    "smallest_number = l[0]\n",
    "\n",
    "#printing smallest number\n",
    "\n",
    "print(f\"The Smallest element of list {l} is: {smallest_number}\")\n"
   ]
  },
  {
   "cell_type": "markdown",
   "metadata": {},
   "source": [
    "#### 4.\tWrite a Python program to find largest number in a list?"
   ]
  },
  {
   "cell_type": "code",
   "execution_count": 27,
   "metadata": {},
   "outputs": [
    {
     "name": "stdout",
     "output_type": "stream",
     "text": [
      "The largest element of list [101, 99, 85, 52, 44, 26, 23] is: 101\n"
     ]
    }
   ],
   "source": [
    "#Answer:\n",
    "\n",
    "# program to find largest number in a list\n",
    "\n",
    "l = [85,44,52,99,23,101,26]\n",
    "\n",
    "#sorting list in decending order\n",
    "l.sort(reverse = True)\n",
    "\n",
    "#largest number \n",
    "largest_number = l[0]\n",
    "\n",
    "#printing largest number\n",
    "\n",
    "print(f\"The largest element of list {l} is: {largest_number}\")"
   ]
  },
  {
   "cell_type": "markdown",
   "metadata": {},
   "source": [
    "#### 5.\tWrite a Python program to find second largest number in a list?"
   ]
  },
  {
   "cell_type": "code",
   "execution_count": 28,
   "metadata": {},
   "outputs": [
    {
     "name": "stdout",
     "output_type": "stream",
     "text": [
      "The second largest element of list [111, 105, 99, 85, 44, 26, 23] is: 105\n"
     ]
    }
   ],
   "source": [
    "#Answer:\n",
    "\n",
    "# program to find  second largest number in a list\n",
    "\n",
    "l = [85,44,105,99,23,111,26]\n",
    "\n",
    "#sorting list in decending order\n",
    "l.sort(reverse = True)\n",
    "\n",
    "#Second largest number \n",
    "second_largest_number = l[1]\n",
    "\n",
    "#printing second largest number\n",
    "\n",
    "print(f\"The second largest element of list {l} is: {second_largest_number}\")"
   ]
  },
  {
   "cell_type": "markdown",
   "metadata": {},
   "source": [
    "#### 6.\tWrite a Python program to find N largest elements from a list?"
   ]
  },
  {
   "cell_type": "code",
   "execution_count": 31,
   "metadata": {},
   "outputs": [
    {
     "name": "stdout",
     "output_type": "stream",
     "text": [
      "2 largest element of list [111, 105, 99, 85, 44, 26, 23] is: [111, 105]\n"
     ]
    }
   ],
   "source": [
    "#Answer:\n",
    "\n",
    "# program to find N largest number in a list\n",
    "\n",
    "l = [85,44,105,99,23,111,26]\n",
    "\n",
    "N = 2\n",
    "\n",
    "#sorting list in decending order\n",
    "l.sort(reverse = True)\n",
    "\n",
    "# N largest number \n",
    "\n",
    "new_list = []\n",
    "for i in range(N):\n",
    "    new_list.append(l[i])\n",
    "    \n",
    "#printing second largest number\n",
    "\n",
    "print(f\"{N} largest element of list {l} is: {new_list}\")"
   ]
  },
  {
   "cell_type": "markdown",
   "metadata": {},
   "source": [
    "#### 7.\tWrite a Python program to print even numbers in a list?"
   ]
  },
  {
   "cell_type": "code",
   "execution_count": 38,
   "metadata": {},
   "outputs": [
    {
     "name": "stdout",
     "output_type": "stream",
     "text": [
      "Even elements of [3, 4, 6, 9, 5, 12, 44, 77, 65, 56, 11] in a list is: [4, 6, 12, 44, 56]\n"
     ]
    }
   ],
   "source": [
    "#Answer:\n",
    "\n",
    "# program to print even numbers in a list\n",
    "\n",
    "l = [3,4,6,9,5,12,44,77,65,56,11]\n",
    "\n",
    "#sorting even number\n",
    "\n",
    "even_list = []\n",
    "\n",
    "for i in l:\n",
    "    if i%2==0:\n",
    "        even_list.append(i)\n",
    "        \n",
    "#printing even list\n",
    "\n",
    "print(f\"Even elements of {l} in a list is: {even_list}\")"
   ]
  },
  {
   "cell_type": "markdown",
   "metadata": {},
   "source": [
    "#### 8.\tWrite a Python program to print odd numbers in a List?"
   ]
  },
  {
   "cell_type": "code",
   "execution_count": 42,
   "metadata": {},
   "outputs": [
    {
     "name": "stdout",
     "output_type": "stream",
     "text": [
      "Odd elements of [3, 4, 6, 9, 5, 12, 44, 77, 65, 56, 11] in a list is: [3, 9, 5, 77, 65, 11]\n"
     ]
    }
   ],
   "source": [
    "#Answer:\n",
    "\n",
    "# program to print odd numbers in a list\n",
    "\n",
    "l = [3,4,6,9,5,12,44,77,65,56,11]\n",
    "\n",
    "#sorting odd number\n",
    "\n",
    "odd_list = []\n",
    "\n",
    "for i in l:\n",
    "    if i%2!=0:\n",
    "        odd_list.append(i)\n",
    "        \n",
    "#printing odd list\n",
    "\n",
    "print(f\"Odd elements of {l} in a list is: {odd_list}\")"
   ]
  },
  {
   "cell_type": "markdown",
   "metadata": {},
   "source": [
    "#### 9.\tWrite a Python program to Remove empty List from List?"
   ]
  },
  {
   "cell_type": "code",
   "execution_count": 70,
   "metadata": {},
   "outputs": [
    {
     "name": "stdout",
     "output_type": "stream",
     "text": [
      "List of list with various empty list is: \n",
      "\n",
      "[[1, 2, 3], [5, 6, 7], [], [78, 85, 65], [25, 50, 75], [], [0], ['upend', 'kumar', 'sudh'], [], [12.5, 52.6, 85.3]]\n",
      "\n",
      "List of list with no empty list is:\n",
      "\n",
      " [[1, 2, 3], [5, 6, 7], [78, 85, 65], [25, 50, 75], [0], ['upend', 'kumar', 'sudh'], [12.5, 52.6, 85.3]]\n"
     ]
    }
   ],
   "source": [
    "#Answer:\n",
    "\n",
    "# program to remove empty list from list\n",
    "\n",
    "l = [[1,2,3], [5,6,7],[],[78,85,65],[25,50,75],[],[0],[\"upend\",\"kumar\",\"sudh\"],[],[12.5,52.6,85.3]]\n",
    "\n",
    "new_list = []\n",
    "\n",
    "for i in l:\n",
    "    if type(i)==list:\n",
    "        if len(i) != 0:\n",
    "            new_list.append(i)\n",
    "        \n",
    "#printing list of list with no empty list\n",
    "\n",
    "print(f\"List of list with various empty list is: \\n\\n{l}\")\n",
    "print(f\"\\nList of list with no empty list is:\\n\\n {new_list}\")"
   ]
  },
  {
   "cell_type": "markdown",
   "metadata": {},
   "source": [
    "#### 10.\tWrite a Python program to Cloning or Copying a list?"
   ]
  },
  {
   "cell_type": "code",
   "execution_count": 4,
   "metadata": {},
   "outputs": [
    {
     "name": "stdout",
     "output_type": "stream",
     "text": [
      "Original List:  [2, 3, 7, 9, 6, 45, 85]\n",
      "After Cloning:  [2, 3, 7, 9, 6, 45, 85]\n"
     ]
    }
   ],
   "source": [
    "#Answer:\n",
    "\n",
    "# program to cloning or copying a list\n",
    "\n",
    "def MakeCopy(my_list):\n",
    "    \n",
    "    copyied_list = my_list.copy()\n",
    "    \n",
    "    return copyied_list\n",
    "\n",
    "# driver code\n",
    "\n",
    "lst_1 = [2,3,7,9,6,45,85]\n",
    "lst_2 = MakeCopy(lst_1)\n",
    "\n",
    "print(\"Original List: \", lst_1)\n",
    "print(\"After Cloning: \", lst_2)"
   ]
  },
  {
   "cell_type": "markdown",
   "metadata": {},
   "source": [
    "#### 11.\tWrite a Python program to Count occurrences of an element in a list?"
   ]
  },
  {
   "cell_type": "code",
   "execution_count": 10,
   "metadata": {},
   "outputs": [
    {
     "data": {
      "text/plain": [
       "'The occurences of 8 in [1, 2, 3, 4, 5, 8, 2, 3, 1, 5, 6, 9, 2, 3, 8, 8, 7, 4, 8] is: 4'"
      ]
     },
     "execution_count": 10,
     "metadata": {},
     "output_type": "execute_result"
    }
   ],
   "source": [
    "#Answer:\n",
    "\n",
    "# program to count occurences of an element in a list\n",
    "\n",
    "def CountElement(my_list,x):\n",
    "    #make count of particular element\n",
    "    occurences = my_list.count(x)\n",
    "    \n",
    "    return f\"The occurences of {x} in {my_list} is: {occurences}\"\n",
    "\n",
    "#driver code    \n",
    "\n",
    "my_list = [1,2,3,4,5,8,2,3,1,5,6,9,2,3,8,8,7,4,8]\n",
    "\n",
    "CountElement(my_list,8)"
   ]
  },
  {
   "cell_type": "code",
   "execution_count": null,
   "metadata": {},
   "outputs": [],
   "source": []
  }
 ],
 "metadata": {
  "kernelspec": {
   "display_name": "Python 3",
   "language": "python",
   "name": "python3"
  },
  "language_info": {
   "codemirror_mode": {
    "name": "ipython",
    "version": 3
   },
   "file_extension": ".py",
   "mimetype": "text/x-python",
   "name": "python",
   "nbconvert_exporter": "python",
   "pygments_lexer": "ipython3",
   "version": "3.7.9"
  }
 },
 "nbformat": 4,
 "nbformat_minor": 4
}
