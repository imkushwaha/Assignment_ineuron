{
 "cells": [
  {
   "cell_type": "markdown",
   "metadata": {},
   "source": [
    "# Python Basic Programming Assignment_5"
   ]
  },
  {
   "cell_type": "markdown",
   "metadata": {},
   "source": [
    "#### 1.\tWrite a Python Program to Find LCM?"
   ]
  },
  {
   "cell_type": "code",
   "execution_count": 3,
   "metadata": {},
   "outputs": [
    {
     "name": "stdout",
     "output_type": "stream",
     "text": [
      "LCM of 6 and 8 is 24.0\n"
     ]
    }
   ],
   "source": [
    "#Answer:\n",
    "\n",
    "# Python program to find LCM of two numbers\n",
    "\n",
    "# Function to return HCF of two numbers\n",
    "\n",
    "def hcf(a,b):\n",
    "    if a == 0:\n",
    "        return b\n",
    "    return hcf(b % a, a)\n",
    " \n",
    "#LCM    \n",
    "\n",
    "#input numbers\n",
    "\n",
    "a = 6\n",
    "b = 8\n",
    "\n",
    "lcm = (a / hcf(a,b))* b\n",
    " \n",
    "\n",
    "print('LCM of', a, 'and', b, 'is', lcm)"
   ]
  },
  {
   "cell_type": "markdown",
   "metadata": {},
   "source": [
    "#### 2.\tWrite a Python Program to Find HCF?"
   ]
  },
  {
   "cell_type": "code",
   "execution_count": 4,
   "metadata": {},
   "outputs": [
    {
     "name": "stdout",
     "output_type": "stream",
     "text": [
      "HCF of 8 and 6 is 2\n"
     ]
    }
   ],
   "source": [
    "#Answer:\n",
    "\n",
    "# Program to find HCF of two numbers\n",
    "\n",
    "def hcf(a,b):\n",
    "    if a == 0:\n",
    "        return b\n",
    "    return hcf(b % a, a)\n",
    "\n",
    "#input numbers\n",
    "a = 8\n",
    "b = 6\n",
    "\n",
    "print(\"HCF of {} and {} is {}\".format(a,b,hcf(a,b)))"
   ]
  },
  {
   "cell_type": "markdown",
   "metadata": {},
   "source": [
    "#### 3.\tWrite a Python Program to Convert Decimal to Binary, Octal and Hexadecimal?"
   ]
  },
  {
   "cell_type": "code",
   "execution_count": 7,
   "metadata": {},
   "outputs": [
    {
     "name": "stdout",
     "output_type": "stream",
     "text": [
      "The decimal value of 144 is:\n",
      "0b10010000 in binary.\n",
      "0o220 in octal.\n",
      "0x90 in hexadecimal.\n"
     ]
    }
   ],
   "source": [
    "#Answer\n",
    "\n",
    "# Python program to convert decimal to Binary, Octal and Hexadecimal\n",
    "\n",
    "num = 144\n",
    "\n",
    "print(\"The decimal value of\", num, \"is:\")\n",
    "print(bin(num), \"in binary.\")\n",
    "print(oct(num), \"in octal.\")\n",
    "print(hex(num), \"in hexadecimal.\")"
   ]
  },
  {
   "cell_type": "markdown",
   "metadata": {},
   "source": [
    "#### 4.\tWrite a Python Program To Find ASCII value of a character?"
   ]
  },
  {
   "cell_type": "code",
   "execution_count": 14,
   "metadata": {},
   "outputs": [
    {
     "name": "stdout",
     "output_type": "stream",
     "text": [
      "The ASCII value of 'd' is 100\n"
     ]
    }
   ],
   "source": [
    "#Answer\n",
    "\n",
    "# Program to find the ASCII value of a character\n",
    "\n",
    "char = 'd'\n",
    "\n",
    "print(\"The ASCII value of '\" + char + \"' is\", ord(char))"
   ]
  },
  {
   "cell_type": "markdown",
   "metadata": {},
   "source": [
    "#### 5.\tWrite a Python Program to Make a Simple Calculator with 4 basic mathematical operations?"
   ]
  },
  {
   "cell_type": "code",
   "execution_count": 41,
   "metadata": {},
   "outputs": [
    {
     "name": "stdout",
     "output_type": "stream",
     "text": [
      "--------Welcome To Python Calculator--------\n",
      "Enter your first number:45\n",
      "Enter your second number:54\n",
      "Choose your operators: +, -, *, /\n",
      "Enter your operator:+\n",
      "sum of 45 and 54 is 99\n"
     ]
    }
   ],
   "source": [
    "print(\"--------Welcome To Python Calculator--------\")\n",
    "\n",
    "num1 = int(input(\"Enter your first number:\"))\n",
    "\n",
    "num2 = int(input(\"Enter your second number:\"))\n",
    "\n",
    "print(\"Choose your operators: +, -, *, /\")\n",
    "\n",
    "oper = (input(\"Enter your operator:\"))\n",
    "\n",
    "if oper == \"+\":\n",
    "    print(\"sum of {} and {} is {}\".format(num1,num2,num1+num2)) \n",
    "    \n",
    "    \n",
    "elif oper == \"-\":\n",
    "    print(\"Diff of {} and {} is {}\".format(num1,num2,num1-num2))\n",
    "    \n",
    "\n",
    "elif oper == \"*\":\n",
    "    print(\"Product of {} and {} is {}\".format(num1,num2,num1*num2)) \n",
    "    \n",
    "    \n",
    "else:\n",
    "    print(\"Division of {} and {} is {}\".format(num1,num2,num1/num2))"
   ]
  },
  {
   "cell_type": "code",
   "execution_count": null,
   "metadata": {},
   "outputs": [],
   "source": []
  }
 ],
 "metadata": {
  "kernelspec": {
   "display_name": "Python 3",
   "language": "python",
   "name": "python3"
  },
  "language_info": {
   "codemirror_mode": {
    "name": "ipython",
    "version": 3
   },
   "file_extension": ".py",
   "mimetype": "text/x-python",
   "name": "python",
   "nbconvert_exporter": "python",
   "pygments_lexer": "ipython3",
   "version": "3.7.9"
  }
 },
 "nbformat": 4,
 "nbformat_minor": 4
}
