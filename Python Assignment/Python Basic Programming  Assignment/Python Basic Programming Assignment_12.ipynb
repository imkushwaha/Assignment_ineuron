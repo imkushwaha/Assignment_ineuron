{
 "cells": [
  {
   "cell_type": "markdown",
   "metadata": {},
   "source": [
    "# Python Basic Programming Assignment_12"
   ]
  },
  {
   "cell_type": "markdown",
   "metadata": {},
   "source": [
    "#### 1.\tWrite a Python program to Extract Unique values dictionary values?"
   ]
  },
  {
   "cell_type": "code",
   "execution_count": 13,
   "metadata": {},
   "outputs": [
    {
     "data": {
      "text/plain": [
       "'Upendra Kumar'"
      ]
     },
     "execution_count": 13,
     "metadata": {},
     "output_type": "execute_result"
    }
   ],
   "source": [
    "# Answer:\n",
    "\n",
    "d = {\"Name\": \"Upendra Kumar\", \"Email\": \"uk48762@gmail.com\", \"Course\": \"Full Stack Data Science\"}\n",
    "\n",
    "def extract_values_dict(d, key):\n",
    "    return d[key] \n",
    "\n",
    "#calling function\n",
    "\n",
    "extract_values_dict(my_dict,\"Name\")"
   ]
  },
  {
   "cell_type": "markdown",
   "metadata": {},
   "source": [
    "#### 2.\tWrite a Python program to find the sum of all items in a dictionary?"
   ]
  },
  {
   "cell_type": "code",
   "execution_count": 22,
   "metadata": {},
   "outputs": [
    {
     "data": {
      "text/plain": [
       "'Sum of items in given dict is: 4'"
      ]
     },
     "execution_count": 22,
     "metadata": {},
     "output_type": "execute_result"
    }
   ],
   "source": [
    "# Answer:\n",
    "\n",
    "# Python Program to find the sum of all items in a dictionary\n",
    "\n",
    "def sum_of_items(d):\n",
    "    l = d.items()\n",
    "    return f\"Sum of items in given dict is: {len(l)}\"\n",
    "\n",
    "#calling function\n",
    "\n",
    "sum_of_items(student_details)"
   ]
  },
  {
   "cell_type": "markdown",
   "metadata": {},
   "source": [
    "#### 3.\tWrite a Python program to Merging two Dictionaries?"
   ]
  },
  {
   "cell_type": "code",
   "execution_count": 49,
   "metadata": {},
   "outputs": [
    {
     "data": {
      "text/plain": [
       "{'Name': 'Ram',\n",
       " 'Address': 'Ayodhya',\n",
       " 'School': 'Gurukul',\n",
       " 'Talent': 'Uttam Prush'}"
      ]
     },
     "execution_count": 49,
     "metadata": {},
     "output_type": "execute_result"
    }
   ],
   "source": [
    "# Answer:\n",
    "\n",
    "# Python Program to Merge two Dictionaries\n",
    "\n",
    "def Merge(dict1, dict2):\n",
    "    merge = (dict1.update(dict2))\n",
    "    return dict1\n",
    "\n",
    "     \n",
    "d1 = {\"Name\": \"Ram\", \"Address\": \"Ayodhya\"}\n",
    "\n",
    "d2 = {\"School\":\"Gurukul\", \"Talent\": \"Uttam Prush\"}\n",
    "\n",
    "#calling function\n",
    "\n",
    "Merge(d1,d2)"
   ]
  },
  {
   "cell_type": "markdown",
   "metadata": {},
   "source": [
    "#### 4.\tWrite a Python program to convert key-values list to flat dictionary?"
   ]
  },
  {
   "cell_type": "code",
   "execution_count": 10,
   "metadata": {},
   "outputs": [
    {
     "name": "stdout",
     "output_type": "stream",
     "text": [
      "The original dict is : {'Name': ['Upendra', 'Aryan', 'Ram'], 'Email': ['uk@gmail.com', 'aryan@gmail.com', 'ram@gmail.com']}\n"
     ]
    },
    {
     "data": {
      "text/plain": [
       "\"Flattened dictionary : {'Upendra': 'uk@gmail.com', 'Aryan': 'aryan@gmail.com', 'Ram': 'ram@gmail.com'}\""
      ]
     },
     "execution_count": 10,
     "metadata": {},
     "output_type": "execute_result"
    }
   ],
   "source": [
    "# Answer:\n",
    "\n",
    "# Python Program to convert key-values list to flat dictionary\n",
    "\n",
    "def flat_dictionary(original_dict, key1,key2):\n",
    "    \n",
    "    # printing original dictionary\n",
    "    print(\"The original dict is : \" + str(original_dict))\n",
    "    \n",
    "    # Convert key-values list to flat dictionary Using dict() + zip()\n",
    "    flat_dict = dict(zip(original_dict[key1], original_dict[key2]))\n",
    "    \n",
    "    # printing result\n",
    "    return \"Flattened dictionary : \" + str(flat_dict)\n",
    "\n",
    "\n",
    "original_dict = {\"Name\":[\"Upendra\",\"Aryan\",\"Ram\"], \"Email\":[\"uk@gmail.com\",\"aryan@gmail.com\", \"ram@gmail.com\"]}\n",
    "\n",
    "#calling function\n",
    "flat_dict = flat_dictionary(original_dict,\"Name\",\"Email\")\n",
    "flat_dict"
   ]
  },
  {
   "cell_type": "markdown",
   "metadata": {},
   "source": [
    "#### 5.\tWrite a Python program to insertion at the beginning in OrderedDict?"
   ]
  },
  {
   "cell_type": "code",
   "execution_count": 23,
   "metadata": {},
   "outputs": [
    {
     "name": "stdout",
     "output_type": "stream",
     "text": [
      "OrderedDict([('Black Forest', 'Pastry'), ('Apple', 'Fruit'), ('Tomato', 'Vegetable'), ('Cone', 'Icecream')])\n"
     ]
    }
   ],
   "source": [
    "# Answer:\n",
    "\n",
    "# Python Program to insert at the beginning in OrderedDict\n",
    "\n",
    "\n",
    "from collections import OrderedDict\n",
    "\n",
    "my_dict = [(\"Apple\",\"Fruit\"), (\"Tomato\", \"Vegetable\"), (\"Cone\", \"Icecream\")]\n",
    "\n",
    "# initialising ordered_dict\n",
    "ordered_dict = OrderedDict(my_dict)\n",
    "\n",
    "# inserting items in starting of dict\n",
    "ordered_dict.update({'Black Forest':'Pastry'})\n",
    "ordered_dict.move_to_end('Black Forest', last = False)\n",
    "\n",
    "# print result\n",
    "print ((ordered_dict))"
   ]
  },
  {
   "cell_type": "markdown",
   "metadata": {},
   "source": [
    "#### 6.\tWrite a Python program to check order of character in string using OrderedDict()?"
   ]
  },
  {
   "cell_type": "code",
   "execution_count": 66,
   "metadata": {},
   "outputs": [
    {
     "name": "stdout",
     "output_type": "stream",
     "text": [
      "True\n"
     ]
    }
   ],
   "source": [
    "# Answer:\n",
    "\n",
    "# Python Progam to check order of character in string using OrderedDict\n",
    "\n",
    "\n",
    "from collections import OrderedDict\n",
    "\n",
    "def checkOrder(input, pattern):\n",
    "    \n",
    "    dict = OrderedDict.fromkeys(input)\n",
    "    \n",
    "    ptrlen = 0\n",
    "    for key,value in dict.items():\n",
    "        if (key == pattern[ptrlen]):\n",
    "            ptrlen = ptrlen + 1\n",
    "            \n",
    "        # check if we have traverse complete pattern string\n",
    "        if (ptrlen == (len(pattern))):\n",
    "            return 'True'\n",
    "        \n",
    "    # if we come out from for loop that means order was mismatched\n",
    "    return 'False'\n",
    "\n",
    "\n",
    "\n",
    "input = 'iNeuron Intelligence'\n",
    "pattern = 'ier'\n",
    "print (checkOrder(input,pattern))"
   ]
  },
  {
   "cell_type": "markdown",
   "metadata": {},
   "source": [
    "#### 7.\tWrite a Python program to sort Python Dictionaries by Key or Value?"
   ]
  },
  {
   "cell_type": "code",
   "execution_count": 106,
   "metadata": {},
   "outputs": [],
   "source": [
    "# Answer\n",
    "\n",
    "# Python Program to sort python Dictionaries by key or value\n",
    "\n",
    "def sort_dict(my_dict):\n",
    "    keylist = []\n",
    "    for key,value in my_dict.items():\n",
    "        keylist.append(key)\n",
    "    \n",
    "    keylist.sort(reverse = False)\n",
    "    \n",
    "    new_dict = {}\n",
    "    \n",
    "    for i in keylist:\n",
    "        new_dict[i]=my_dict[i]\n",
    "    \n",
    "    return f\"New Dict: {new_dict}\""
   ]
  },
  {
   "cell_type": "code",
   "execution_count": 107,
   "metadata": {},
   "outputs": [
    {
     "data": {
      "text/plain": [
       "\"New Dict: {'a': 1, 'c': 3, 'd': 4, 'l': 12, 'n': 14, 'z': 26}\""
      ]
     },
     "execution_count": 107,
     "metadata": {},
     "output_type": "execute_result"
    }
   ],
   "source": [
    "my_dict = {\"z\":26,\"l\":12, \"n\":14, \"c\":3, \"d\":4, \"a\":1}\n",
    "\n",
    "sort_dict = sort_dict(my_dict)\n",
    "\n",
    "sort_dict"
   ]
  },
  {
   "cell_type": "code",
   "execution_count": null,
   "metadata": {},
   "outputs": [],
   "source": []
  }
 ],
 "metadata": {
  "kernelspec": {
   "display_name": "Python 3",
   "language": "python",
   "name": "python3"
  },
  "language_info": {
   "codemirror_mode": {
    "name": "ipython",
    "version": 3
   },
   "file_extension": ".py",
   "mimetype": "text/x-python",
   "name": "python",
   "nbconvert_exporter": "python",
   "pygments_lexer": "ipython3",
   "version": "3.7.4"
  }
 },
 "nbformat": 4,
 "nbformat_minor": 2
}
