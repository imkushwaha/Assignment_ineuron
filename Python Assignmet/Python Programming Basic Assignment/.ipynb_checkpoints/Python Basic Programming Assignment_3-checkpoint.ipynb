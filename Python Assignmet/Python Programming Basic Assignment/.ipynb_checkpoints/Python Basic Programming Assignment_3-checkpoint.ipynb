{
 "cells": [
  {
   "cell_type": "markdown",
   "metadata": {},
   "source": [
    "# Python Basic Programming Assignment_3"
   ]
  },
  {
   "cell_type": "markdown",
   "metadata": {},
   "source": [
    "#### 1.\tWrite a Python Program to Check if a Number is Positive, Negative or Zero?"
   ]
  },
  {
   "cell_type": "code",
   "execution_count": 8,
   "metadata": {},
   "outputs": [
    {
     "name": "stdout",
     "output_type": "stream",
     "text": [
      "This number is negative\n"
     ]
    }
   ],
   "source": [
    "#Answer:\n",
    "\n",
    "# Program to check if a number is positive, negative or zero\n",
    "\n",
    "num = -12\n",
    "\n",
    "if num>0:\n",
    "    print(\"This number is positive\")\n",
    "    \n",
    "elif num<0:\n",
    "    print(\"This number is negative\")\n",
    "    \n",
    "else:\n",
    "    print(\"This is zero\")"
   ]
  },
  {
   "cell_type": "markdown",
   "metadata": {},
   "source": [
    "#### 2.\tWrite a Python Program to Check if a Number is Odd or Even?"
   ]
  },
  {
   "cell_type": "code",
   "execution_count": 10,
   "metadata": {},
   "outputs": [
    {
     "name": "stdout",
     "output_type": "stream",
     "text": [
      "3 is odd number\n"
     ]
    }
   ],
   "source": [
    "#Answer:\n",
    "\n",
    "# Program to check if a number is odd or even\n",
    "\n",
    "num = 3\n",
    "\n",
    "if num%2==0:\n",
    "    print(\"{} is even number\".format(num))\n",
    "    \n",
    "else:\n",
    "    print(\"{} is odd number\".format(num))"
   ]
  },
  {
   "cell_type": "markdown",
   "metadata": {},
   "source": [
    "#### 3.\tWrite a Python Program to Check Leap Year?"
   ]
  },
  {
   "cell_type": "code",
   "execution_count": 46,
   "metadata": {},
   "outputs": [
    {
     "name": "stdout",
     "output_type": "stream",
     "text": [
      "The given year 1900 is not a leap year\n"
     ]
    }
   ],
   "source": [
    "#Answer:\n",
    "\n",
    "# Program to check leap year\n",
    "\n",
    "year = 1900\n",
    "\n",
    "#leap year is divisible by 4 and if centur year divisible by 400 then it is leap year\n",
    "\n",
    "if (year % 4) == 0:\n",
    "    if (year % 100) == 0:\n",
    "        if (year % 400) == 0:\n",
    "            print(\"The given year {} is a leap year\".format(year))\n",
    "        else:\n",
    "            print(\"The given year {} is not a leap year\".format(year))\n",
    "    else:\n",
    "        print(\"The given year {} is a leap year\".format(year))\n",
    "else:\n",
    "    print(\"The given year {} is not a leap year\".format(year))"
   ]
  },
  {
   "cell_type": "markdown",
   "metadata": {},
   "source": [
    "#### 4.\tWrite a Python Program to Check Prime Number?"
   ]
  },
  {
   "cell_type": "code",
   "execution_count": 77,
   "metadata": {},
   "outputs": [
    {
     "name": "stdout",
     "output_type": "stream",
     "text": [
      "24 is not a prime number, its factors are : [1, 2, 3, 4, 6, 8, 12, 24]\n"
     ]
    }
   ],
   "source": [
    "#Answer:\n",
    "\n",
    "# Program to check Prime Number\n",
    "\n",
    "factors = []\n",
    "num = 24\n",
    "\n",
    "if num>1:\n",
    "    for i in range(1,num+1):\n",
    "        if (num%i==0):\n",
    "            factors.append(i)\n",
    "else:\n",
    "    print(\"Number should be greater than 1\")\n",
    "    \n",
    "if len(factors)==2:\n",
    "    print(\"{} is a prime number\".format(num))\n",
    "    \n",
    "else:\n",
    "    print(\"{} is not a prime number, its factors are : {}\".format(num, factors))\n",
    "    "
   ]
  },
  {
   "cell_type": "markdown",
   "metadata": {},
   "source": [
    "#### 5.\tWrite a Python Program to Print all Prime Numbers in an Interval of 1-10000?"
   ]
  },
  {
   "cell_type": "code",
   "execution_count": 103,
   "metadata": {},
   "outputs": [],
   "source": [
    "#Answer:\n",
    "\n",
    "# Program to print all prime numbers in an interval of 1-10000\n",
    "\n",
    "data = [i for i in range(1,10,1)]\n",
    "\n",
    "factors = []\n",
    "my_dict = {}\n",
    "    \n",
    "for num in data:\n",
    "    for j in range(1,num+1):\n",
    "        if (num%j==0):\n",
    "            factors.append(j)\n",
    "            factors_= factors.copy()\n",
    "            my_dict[num]=factors_\n",
    "            factors.clear()\n",
    "            \n",
    "           "
   ]
  },
  {
   "cell_type": "code",
   "execution_count": 104,
   "metadata": {},
   "outputs": [
    {
     "data": {
      "text/plain": [
       "0"
      ]
     },
     "execution_count": 104,
     "metadata": {},
     "output_type": "execute_result"
    }
   ],
   "source": [
    "len(set(factors))"
   ]
  },
  {
   "cell_type": "code",
   "execution_count": 105,
   "metadata": {},
   "outputs": [
    {
     "data": {
      "text/plain": [
       "{1: [1], 2: [2], 3: [3], 4: [4], 5: [5], 6: [6], 7: [7], 8: [8], 9: [9]}"
      ]
     },
     "execution_count": 105,
     "metadata": {},
     "output_type": "execute_result"
    }
   ],
   "source": [
    "my_dict"
   ]
  },
  {
   "cell_type": "code",
   "execution_count": 107,
   "metadata": {},
   "outputs": [
    {
     "name": "stdout",
     "output_type": "stream",
     "text": [
      "Prime numbers between 900 and 1000 are:\n",
      "907\n",
      "911\n",
      "919\n",
      "929\n",
      "937\n",
      "941\n",
      "947\n",
      "953\n",
      "967\n",
      "971\n",
      "977\n",
      "983\n",
      "991\n",
      "997\n"
     ]
    }
   ],
   "source": [
    "# Python program to display all the prime numbers within an interval\n",
    "\n",
    "lower = 900\n",
    "upper = 1000\n",
    "\n",
    "print(\"Prime numbers between\", lower, \"and\", upper, \"are:\")\n",
    "\n",
    "for num in range(lower, upper + 1):\n",
    "   # all prime numbers are greater than 1\n",
    "   if num > 1:\n",
    "        for i in range(2, num):\n",
    "            if (num % i) == 0:\n",
    "                break\n",
    "        else:\n",
    "            print(num)"
   ]
  },
  {
   "cell_type": "code",
   "execution_count": null,
   "metadata": {},
   "outputs": [],
   "source": []
  }
 ],
 "metadata": {
  "kernelspec": {
   "display_name": "Python 3",
   "language": "python",
   "name": "python3"
  },
  "language_info": {
   "codemirror_mode": {
    "name": "ipython",
    "version": 3
   },
   "file_extension": ".py",
   "mimetype": "text/x-python",
   "name": "python",
   "nbconvert_exporter": "python",
   "pygments_lexer": "ipython3",
   "version": "3.7.9"
  }
 },
 "nbformat": 4,
 "nbformat_minor": 4
}
