{
 "cells": [
  {
   "cell_type": "markdown",
   "metadata": {},
   "source": [
    "# Python Basic Assignment: Solution_20"
   ]
  },
  {
   "cell_type": "markdown",
   "metadata": {},
   "source": [
    "#### 1. Set the variable test1 to the string 'This is a test of the emergency text system,' and save test1 to a file named test.txt."
   ]
  },
  {
   "cell_type": "code",
   "execution_count": 1,
   "metadata": {},
   "outputs": [],
   "source": [
    "#Answer:\n",
    "\n",
    "test1 = \"This is a test of the emergency text system\"\n",
    "\n",
    "text_file = open(\"test.txt\", \"w\")\n",
    "\n",
    "text_file.write(test1)\n",
    "\n",
    "text_file.close()"
   ]
  },
  {
   "cell_type": "markdown",
   "metadata": {},
   "source": [
    "#### 2. Read the contents of the file test.txt into the variable test2. Is there a difference between test 1 and test 2?"
   ]
  },
  {
   "cell_type": "code",
   "execution_count": 2,
   "metadata": {},
   "outputs": [
    {
     "data": {
      "text/plain": [
       "'This is a test of the emergency text system'"
      ]
     },
     "execution_count": 2,
     "metadata": {},
     "output_type": "execute_result"
    }
   ],
   "source": [
    "#Answer:\n",
    "\n",
    "f = open(\"test.txt\", \"r\")\n",
    "\n",
    "test2 = f.readline()\n",
    "test2"
   ]
  },
  {
   "cell_type": "code",
   "execution_count": 3,
   "metadata": {},
   "outputs": [
    {
     "data": {
      "text/plain": [
       "True"
      ]
     },
     "execution_count": 3,
     "metadata": {},
     "output_type": "execute_result"
    }
   ],
   "source": [
    "test1 == test2  #no difference between test1 and test2"
   ]
  },
  {
   "cell_type": "markdown",
   "metadata": {},
   "source": [
    "#### 3. Create a CSV file called books.csv by using these lines:\n",
    "- title,author,year\n",
    "- The Weirdstone of Brisingamen,Alan Garner,1960\n",
    "- Perdido Street Station,China Miéville,2000\n",
    "- Thud!,Terry Pratchett,2005\n",
    "- The Spellman Files,Lisa Lutz,2007\n",
    "- Small Gods,Terry Pratchett,1992"
   ]
  },
  {
   "cell_type": "code",
   "execution_count": 4,
   "metadata": {},
   "outputs": [],
   "source": [
    "#Answer:\n",
    "\n",
    "import csv\n",
    "\n",
    "header = [\"title\", \"author\", \"year\"]\n",
    "\n",
    "row = [['The Weirdstone of Brisingamen','Alan Garner',1960], \n",
    "       ['Perdido Street Station', 'China Miéville',2000], \n",
    "       ['Thud!', 'Terry Pratchett', 2005],\n",
    "       ['The Spellman Files', 'Lisa Lutz' ,2007],\n",
    "       ['Small Gods', 'Terry Pratchett' ,1992]]\n",
    "\n",
    "with open('books.csv', 'w', encoding='UTF8', newline='') as f:\n",
    "    writer = csv.writer(f)\n",
    "    \n",
    "    #write header\n",
    "    \n",
    "    writer.writerow(header)\n",
    "    \n",
    "    #write data \n",
    "    \n",
    "    writer.writerows(row)"
   ]
  },
  {
   "cell_type": "markdown",
   "metadata": {},
   "source": [
    "#### 4. Use the sqlite3 module to create a SQLite database called books.db, and a table called books with these fields: title (text), author (text), and year (integer)."
   ]
  },
  {
   "cell_type": "code",
   "execution_count": null,
   "metadata": {},
   "outputs": [],
   "source": [
    "#Answer:\n",
    "\n",
    "import sqlite3\n",
    "con = sqlite3.connect('books.db')\n",
    "\n",
    "#creating cursor\n",
    "\n",
    "cur = con.cursor()\n",
    "\n",
    "# Create table\n",
    "cur.execute('''CREATE TABLE books\n",
    "               (title text, author text, year integer)''')\n",
    "\n",
    "#commit chnages\n",
    "\n",
    "con.commit()"
   ]
  },
  {
   "cell_type": "markdown",
   "metadata": {},
   "source": [
    "#### 5. Read books.csv and insert its data into the book table."
   ]
  },
  {
   "cell_type": "code",
   "execution_count": 40,
   "metadata": {},
   "outputs": [
    {
     "name": "stdout",
     "output_type": "stream",
     "text": [
      "Connection to DB successfull\n",
      "[('title', 'author', 'year'), ('The Weirdstone of Brisingamen', 'Alan Garner', 1960), ('Perdido Street Station', 'China MiÃ©ville', 2000), ('Thud!', 'Terry Pratchett', 2005), ('The Spellman Files', 'Lisa Lutz', 2007), ('Small Gods', 'Terry Pratchett', 1992), ('title', 'author', 'year'), ('The Weirdstone of Brisingamen', 'Alan Garner', 1960), ('Perdido Street Station', 'China MiÃ©ville', 2000), ('Thud!', 'Terry Pratchett', 2005), ('The Spellman Files', 'Lisa Lutz', 2007), ('Small Gods', 'Terry Pratchett', 1992)]\n"
     ]
    }
   ],
   "source": [
    "#Answer:\n",
    "\n",
    "#creating a connection\n",
    "\n",
    "conn = sqlite3.connect(\"books.db\")\n",
    "print(\"Connection to DB successfull\")\n",
    "\n",
    "#creating a cursor\n",
    "cur = conn.cursor()\n",
    "\n",
    "#Opening books.csv\n",
    "a_file = open(\"books.csv\")\n",
    "\n",
    "#reading rows of csv file\n",
    "rows = csv.reader(a_file)\n",
    "\n",
    "#query execution\n",
    "cur. executemany(\"INSERT INTO books VALUES (?, ?, ?)\", rows)\n",
    "\n",
    "cur. execute(\"SELECT * FROM books\")\n",
    "\n",
    "#Fetching data from db\n",
    "print(cur.fetchall())\n",
    "\n",
    "#committing changes\n",
    "con.commit()"
   ]
  },
  {
   "cell_type": "markdown",
   "metadata": {},
   "source": [
    "#### 6. Select and print the title column from the book table in alphabetical order."
   ]
  },
  {
   "cell_type": "code",
   "execution_count": 47,
   "metadata": {},
   "outputs": [
    {
     "name": "stdout",
     "output_type": "stream",
     "text": [
      "Connection to DB successfull\n",
      "[('Perdido Street Station',), ('Small Gods',), ('The Spellman Files',), ('The Weirdstone of Brisingamen',), ('Thud!',), ('title',)]\n"
     ]
    }
   ],
   "source": [
    "#Answer:\n",
    "\n",
    "#creating a connection\n",
    "\n",
    "conn = sqlite3.connect(\"books.db\")\n",
    "print(\"Connection to DB successfull\")\n",
    "\n",
    "#creating a cursor\n",
    "cur = conn.cursor()\n",
    "\n",
    "##query execution\n",
    "cur. execute(\"SELECT title FROM books order by title asc\")\n",
    "\n",
    "#Fetching data from db\n",
    "print(cur.fetchall())\n",
    "\n",
    "#committing changes\n",
    "con.commit()"
   ]
  },
  {
   "cell_type": "markdown",
   "metadata": {},
   "source": [
    "#### 7. From the book table, select and print all columns in the order of publication."
   ]
  },
  {
   "cell_type": "code",
   "execution_count": 48,
   "metadata": {},
   "outputs": [
    {
     "name": "stdout",
     "output_type": "stream",
     "text": [
      "Connection to DB successfull\n",
      "[('The Weirdstone of Brisingamen', 'Alan Garner', 1960), ('Small Gods', 'Terry Pratchett', 1992), ('Perdido Street Station', 'China MiÃ©ville', 2000), ('Thud!', 'Terry Pratchett', 2005), ('The Spellman Files', 'Lisa Lutz', 2007), ('title', 'author', 'year')]\n"
     ]
    }
   ],
   "source": [
    "#Answer:\n",
    "\n",
    "#creating a connection\n",
    "conn = sqlite3.connect(\"books.db\")\n",
    "print(\"Connection to DB successfull\")\n",
    "\n",
    "#creating a cursor\n",
    "cur = conn.cursor()\n",
    "\n",
    "##query execution\n",
    "cur. execute(\"SELECT * FROM books order by year asc\")\n",
    "\n",
    "#Fetching data from db\n",
    "print(cur.fetchall())\n",
    "\n",
    "#committing changes\n",
    "con.commit()"
   ]
  },
  {
   "cell_type": "markdown",
   "metadata": {},
   "source": [
    "#### 8. Use the sqlalchemy module to connect to the sqlite3 database books.db that you just made in exercise 6."
   ]
  },
  {
   "cell_type": "code",
   "execution_count": 57,
   "metadata": {},
   "outputs": [
    {
     "name": "stdout",
     "output_type": "stream",
     "text": [
      "Engine(sqlite:///books.db)\n"
     ]
    }
   ],
   "source": [
    "#Answer:\n",
    "from sqlalchemy import create_engine\n",
    "\n",
    "#creating engine\n",
    "engine = create_engine('sqlite:///books.db') \n",
    "\n",
    "#Connecting to the Database \n",
    "engine.connect()\n",
    "\n",
    "print(engine)"
   ]
  },
  {
   "cell_type": "markdown",
   "metadata": {},
   "source": [
    "#### 9. Install the Redis server and the Python redis library (pip install redis) on your computer. Create a Redis hash called test with the fields count (1) and name ('Fester Bestertester'). Print all the fields for test."
   ]
  },
  {
   "cell_type": "code",
   "execution_count": 62,
   "metadata": {},
   "outputs": [],
   "source": [
    "#Answer:"
   ]
  },
  {
   "cell_type": "markdown",
   "metadata": {},
   "source": [
    "#### 10. Increment the count field of test and print it."
   ]
  },
  {
   "cell_type": "code",
   "execution_count": null,
   "metadata": {},
   "outputs": [],
   "source": [
    "#Answer:"
   ]
  }
 ],
 "metadata": {
  "kernelspec": {
   "display_name": "Python 3",
   "language": "python",
   "name": "python3"
  },
  "language_info": {
   "codemirror_mode": {
    "name": "ipython",
    "version": 3
   },
   "file_extension": ".py",
   "mimetype": "text/x-python",
   "name": "python",
   "nbconvert_exporter": "python",
   "pygments_lexer": "ipython3",
   "version": "3.7.9"
  }
 },
 "nbformat": 4,
 "nbformat_minor": 4
}
