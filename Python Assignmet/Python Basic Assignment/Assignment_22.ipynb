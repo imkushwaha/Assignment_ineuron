{
 "cells": [
  {
   "cell_type": "markdown",
   "metadata": {},
   "source": [
    "# Python Basic Assignment: Solution_22"
   ]
  },
  {
   "cell_type": "markdown",
   "metadata": {},
   "source": [
    "#### 1. What is the result of the code, and explain?\n",
    "\n",
    "\n",
    "- X = 'iNeuron'\n",
    "- def func():\n",
    "---   print(X)\n",
    "\n",
    "\n",
    "- func()"
   ]
  },
  {
   "cell_type": "code",
   "execution_count": 2,
   "metadata": {
    "scrolled": true
   },
   "outputs": [
    {
     "name": "stdout",
     "output_type": "stream",
     "text": [
      "iNeuron\n"
     ]
    }
   ],
   "source": [
    "#Answer:\n",
    "\n",
    "X = 'iNeuron'\n",
    "\n",
    "def func():\n",
    "    print(X)\n",
    "    \n",
    "func()"
   ]
  },
  {
   "cell_type": "markdown",
   "metadata": {},
   "source": [
    "- In this code we are storing a string 'iNeuron' in variable called X and then defining a function with name func and inside function we are simply calling print(X).\n",
    "\n",
    "- And when we are calling that function func(), it simply prints iNeuron"
   ]
  },
  {
   "cell_type": "markdown",
   "metadata": {},
   "source": [
    "#### 2. What is the result of the code, and explain?\n",
    "\n",
    "\n",
    "- X = 'iNeuron'\n",
    "- def func():\n",
    "---X = 'NI!'\n",
    "\n",
    "\n",
    "- func()\n",
    "- print(X)\n",
    "\n",
    "\n"
   ]
  },
  {
   "cell_type": "code",
   "execution_count": 5,
   "metadata": {},
   "outputs": [
    {
     "name": "stdout",
     "output_type": "stream",
     "text": [
      "iNeuron\n"
     ]
    }
   ],
   "source": [
    "#Answer:\n",
    "\n",
    "X = 'iNeuron'\n",
    "\n",
    "def func():\n",
    "    X = 'NI!'\n",
    "\n",
    "func()\n",
    "print(X) "
   ]
  },
  {
   "cell_type": "markdown",
   "metadata": {},
   "source": [
    "- Here result is iNeuron, basically when we set X = 'iNeuron'. This become a global variable. \n",
    "- Inside function X = 'NI!' is a local variable thats why when we are printing X we get INeuron and when we call function we did not get anything because there only we are doing assignment."
   ]
  },
  {
   "cell_type": "markdown",
   "metadata": {},
   "source": [
    "#### 3. What does this code print, and why?\n",
    "\n",
    "\n",
    "- X = 'iNeuron'\n",
    "- def func():\n",
    "---X = 'NI'\n",
    "---print(X)\n",
    "\n",
    "\n",
    "- func()\n",
    "- print(X)"
   ]
  },
  {
   "cell_type": "code",
   "execution_count": 6,
   "metadata": {},
   "outputs": [
    {
     "name": "stdout",
     "output_type": "stream",
     "text": [
      "NI\n",
      "iNeuron\n"
     ]
    }
   ],
   "source": [
    "#Answer:\n",
    "\n",
    "X = 'iNeuron'\n",
    "\n",
    "def func():\n",
    "    X = 'NI'\n",
    "    print(X)\n",
    "               \n",
    "func()\n",
    "print(X)"
   ]
  },
  {
   "cell_type": "markdown",
   "metadata": {},
   "source": [
    "- When we call func() we get NI and when we call print(X) we get iNeuron, this is because X = 'iNeuron' is a global variable and X = 'NI' is a local variable of function which only function can acesss."
   ]
  },
  {
   "cell_type": "markdown",
   "metadata": {},
   "source": [
    "#### 4. What output does this code produce? Why?\n",
    "\n",
    "\n",
    "- X = 'iNeuron'\n",
    "- def func():\n",
    "---global X\n",
    "---X = 'NI'\n",
    "\n",
    "\n",
    "- func()\n",
    "- print(X)"
   ]
  },
  {
   "cell_type": "code",
   "execution_count": 7,
   "metadata": {},
   "outputs": [
    {
     "name": "stdout",
     "output_type": "stream",
     "text": [
      "NI\n"
     ]
    }
   ],
   "source": [
    "#Answer:\n",
    "\n",
    "X = 'iNeuron'\n",
    "\n",
    "def func():\n",
    "    global X\n",
    "    X = 'NI'\n",
    "    \n",
    "func()  \n",
    "print(X)"
   ]
  },
  {
   "cell_type": "markdown",
   "metadata": {},
   "source": [
    "- print(X) returns NI\n",
    "- Here we able to change global variable X = 'iNeuron' because of global keyword which we have used. gobal keyword allow us to change variable globally."
   ]
  },
  {
   "cell_type": "markdown",
   "metadata": {},
   "source": [
    "#### 5. What about this code—what’s the output, and why?\n",
    "\n",
    "\n",
    "- X = 'iNeuron'\n",
    "- def func():\n",
    "---X = 'NI'\n",
    "\n",
    "- def nested():\n",
    "---print(X)\n",
    "---nested()\n",
    "\n",
    "\n",
    "\n",
    "- func()\n",
    "- X"
   ]
  },
  {
   "cell_type": "code",
   "execution_count": 14,
   "metadata": {},
   "outputs": [
    {
     "data": {
      "text/plain": [
       "'iNeuron'"
      ]
     },
     "execution_count": 14,
     "metadata": {},
     "output_type": "execute_result"
    }
   ],
   "source": [
    "#Answer:\n",
    "\n",
    "X = 'iNeuron'\n",
    "\n",
    "def func():\n",
    "    X = 'NI'\n",
    "    \n",
    "def nested():\n",
    "    print(X)\n",
    "    nested()\n",
    "\n",
    "func()  \n",
    "X"
   ]
  },
  {
   "cell_type": "markdown",
   "metadata": {},
   "source": [
    "- It simply returning global variable X = 'iNeuron', func() does not return anything because there we are only doing assignment and returning nothing."
   ]
  },
  {
   "cell_type": "markdown",
   "metadata": {},
   "source": [
    "#### 6. How about this code: what is its output in Python 3, and explain?\n",
    "\n",
    "\n",
    "- def func():\n",
    "---X = 'NI'\n",
    "\n",
    "- def nested():\n",
    "---nonlocal X\n",
    "---X = 'Spam'\n",
    "---nested()\n",
    "---print(X)\n",
    "\n",
    "\n",
    "- func()\n",
    "\n"
   ]
  },
  {
   "cell_type": "code",
   "execution_count": 15,
   "metadata": {},
   "outputs": [
    {
     "ename": "SyntaxError",
     "evalue": "no binding for nonlocal 'X' found (<ipython-input-15-b23c9b2f992d>, line 7)",
     "output_type": "error",
     "traceback": [
      "\u001b[1;36m  File \u001b[1;32m\"<ipython-input-15-b23c9b2f992d>\"\u001b[1;36m, line \u001b[1;32m7\u001b[0m\n\u001b[1;33m    nonlocal X\u001b[0m\n\u001b[1;37m    ^\u001b[0m\n\u001b[1;31mSyntaxError\u001b[0m\u001b[1;31m:\u001b[0m no binding for nonlocal 'X' found\n"
     ]
    }
   ],
   "source": [
    "#Answer:\n",
    "\n",
    "def func():\n",
    "    X = 'NI'\n",
    "    \n",
    "def nested():\n",
    "    nonlocal X\n",
    "    X = 'Spam'\n",
    "    nested()\n",
    "    print(X)\n",
    "    \n",
    "func()"
   ]
  },
  {
   "cell_type": "markdown",
   "metadata": {},
   "source": [
    "- The nonlocal keyword is used to work with variables inside nested functions, where the variable should not belong to the inner function. But here we are using nonlocal keyword without nested function thats why this error has come."
   ]
  },
  {
   "cell_type": "code",
   "execution_count": null,
   "metadata": {},
   "outputs": [],
   "source": []
  }
 ],
 "metadata": {
  "kernelspec": {
   "display_name": "Python 3",
   "language": "python",
   "name": "python3"
  },
  "language_info": {
   "codemirror_mode": {
    "name": "ipython",
    "version": 3
   },
   "file_extension": ".py",
   "mimetype": "text/x-python",
   "name": "python",
   "nbconvert_exporter": "python",
   "pygments_lexer": "ipython3",
   "version": "3.7.9"
  }
 },
 "nbformat": 4,
 "nbformat_minor": 4
}
