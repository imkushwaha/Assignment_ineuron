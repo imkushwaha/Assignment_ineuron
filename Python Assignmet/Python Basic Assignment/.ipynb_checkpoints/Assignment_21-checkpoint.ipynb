{
 "cells": [
  {
   "cell_type": "markdown",
   "metadata": {},
   "source": [
    "# Python Basic Assignment: Solution_21"
   ]
  },
  {
   "cell_type": "markdown",
   "metadata": {},
   "source": [
    "#### 1. Add the current date to the text file today.txt as a string."
   ]
  },
  {
   "cell_type": "code",
   "execution_count": 1,
   "metadata": {},
   "outputs": [],
   "source": [
    "#Answer:\n",
    "\n",
    "from datetime import date\n",
    "\n",
    "text_file = open(\"today.txt\", \"w\")\n",
    "\n",
    "string = str(date.today())\n",
    "\n",
    "text_file.write(string)\n",
    "\n",
    "text_file.close()"
   ]
  },
  {
   "cell_type": "markdown",
   "metadata": {},
   "source": [
    "#### 2. Read the text file today.txt into the string today_string."
   ]
  },
  {
   "cell_type": "code",
   "execution_count": 2,
   "metadata": {},
   "outputs": [
    {
     "data": {
      "text/plain": [
       "'2021-08-08'"
      ]
     },
     "execution_count": 2,
     "metadata": {},
     "output_type": "execute_result"
    }
   ],
   "source": [
    "#Answer:\n",
    "\n",
    "f = open(\"today.txt\", \"r\")\n",
    "\n",
    "today_string = f.read()\n",
    "\n",
    "today_string"
   ]
  },
  {
   "cell_type": "markdown",
   "metadata": {},
   "source": [
    "#### 3. Parse the date from today_string."
   ]
  },
  {
   "cell_type": "code",
   "execution_count": 3,
   "metadata": {},
   "outputs": [
    {
     "name": "stdout",
     "output_type": "stream",
     "text": [
      "['2021', '08', '08']\n"
     ]
    }
   ],
   "source": [
    "#Answer:\n",
    "\n",
    "split_string = today_string.split(\"-\")\n",
    "\n",
    "print(split_string)"
   ]
  },
  {
   "cell_type": "markdown",
   "metadata": {},
   "source": [
    "#### 4. List the files in your current directory"
   ]
  },
  {
   "cell_type": "code",
   "execution_count": 4,
   "metadata": {},
   "outputs": [
    {
     "data": {
      "text/plain": [
       "['.ipynb_checkpoints',\n",
       " 'Assignments_5.ipynb',\n",
       " 'Assignment_1.docx',\n",
       " 'Assignment_1.ipynb',\n",
       " 'Assignment_10-Copy1.ipynb',\n",
       " 'Assignment_10.docx',\n",
       " 'Assignment_10.ipynb',\n",
       " 'Assignment_11.docx',\n",
       " 'Assignment_11.ipynb',\n",
       " 'Assignment_12.docx',\n",
       " 'Assignment_12.ipynb',\n",
       " 'Assignment_13.docx',\n",
       " 'Assignment_13.ipynb',\n",
       " 'Assignment_14.docx',\n",
       " 'Assignment_14.ipynb',\n",
       " 'Assignment_15.docx',\n",
       " 'Assignment_15.ipynb',\n",
       " 'Assignment_16.docx',\n",
       " 'Assignment_16.ipynb',\n",
       " 'Assignment_17.docx',\n",
       " 'Assignment_17.ipynb',\n",
       " 'Assignment_18.docx',\n",
       " 'Assignment_18.ipynb',\n",
       " 'Assignment_19.docx',\n",
       " 'Assignment_19.ipynb',\n",
       " 'Assignment_2.docx',\n",
       " 'Assignment_2.ipynb',\n",
       " 'Assignment_20.docx',\n",
       " 'Assignment_20.ipynb',\n",
       " 'Assignment_21.docx',\n",
       " 'Assignment_21.ipynb',\n",
       " 'Assignment_22.docx',\n",
       " 'Assignment_23.docx',\n",
       " 'Assignment_24.docx',\n",
       " 'Assignment_25.docx',\n",
       " 'Assignment_3.docx',\n",
       " 'Assignment_3.ipynb',\n",
       " 'Assignment_4.docx',\n",
       " 'Assignment_4.ipynb',\n",
       " 'Assignment_5.docx',\n",
       " 'Assignment_6.docx',\n",
       " 'Assignment_6.ipynb',\n",
       " 'Assignment_7.docx',\n",
       " 'Assignment_7.ipynb',\n",
       " 'Assignment_8.docx',\n",
       " 'Assignment_8.ipynb',\n",
       " 'Assignment_9.docx',\n",
       " 'Assignment_9.ipynb',\n",
       " 'books.csv',\n",
       " 'books.db',\n",
       " 'dst',\n",
       " 'file.csv',\n",
       " 'sqlite3.db',\n",
       " 'test.log',\n",
       " 'test.txt',\n",
       " 'today.txt',\n",
       " 'Untitled.ipynb',\n",
       " 'zoo.py',\n",
       " '__pycache__',\n",
       " '~$signment_21.docx']"
      ]
     },
     "execution_count": 4,
     "metadata": {},
     "output_type": "execute_result"
    }
   ],
   "source": [
    "#Answer:\n",
    "\n",
    "import os\n",
    "\n",
    "#Listing files in my current directory\n",
    "os.listdir()"
   ]
  },
  {
   "cell_type": "markdown",
   "metadata": {},
   "source": [
    "#### 5. Create a list of all of the files in your parent directory (minimum five files should be available)."
   ]
  },
  {
   "cell_type": "code",
   "execution_count": 7,
   "metadata": {},
   "outputs": [
    {
     "name": "stdout",
     "output_type": "stream",
     "text": [
      "['Blog', 'ISLR Seventh Printing.pdf', 'Python Advance Assignment', 'Python Basic Assignment', 'Python Programming Basic Assignment']\n"
     ]
    }
   ],
   "source": [
    "#Answer:\n",
    "\n",
    "import os\n",
    "\n",
    "my_list = []\n",
    "\n",
    "for i in os.listdir(\"G:\\Assignments\\Python Assignmet\"):\n",
    "    my_list.append(i)\n",
    "    \n",
    "print(my_list)"
   ]
  },
  {
   "cell_type": "markdown",
   "metadata": {},
   "source": [
    "#### 6. Use multiprocessing to create three separate processes. Make each one wait a random number of seconds between one and five, print the current time, and then exit."
   ]
  },
  {
   "cell_type": "code",
   "execution_count": 11,
   "metadata": {},
   "outputs": [
    {
     "name": "stdout",
     "output_type": "stream",
     "text": [
      "Starting Time = 10:40:43\n",
      "Ending Time = 10:40:44\n",
      "Done!\n"
     ]
    }
   ],
   "source": [
    "#Answer:\n",
    "\n",
    "# importing the multiprocessing module\n",
    "import multiprocessing\n",
    "from datetime import datetime\n",
    "\n",
    "now = datetime.now()\n",
    "\n",
    "start_time = now.strftime(\"%H:%M:%S\")\n",
    "print(\"Starting Time =\", start_time)\n",
    "\n",
    "def print_cube(num):\n",
    "    \"\"\"\n",
    "    function to print cube of given num\n",
    "    \"\"\"\n",
    "    print(\"Cube: {}\".format(num * num * num))\n",
    "\n",
    "def print_square(num):\n",
    "    \"\"\"\n",
    "    function to print square of given num\n",
    "    \"\"\"\n",
    "    print(\"Square: {}\".format(num * num))\n",
    "    \n",
    "def print_25timesnumber(num):\n",
    "    \"\"\"\n",
    "    function to print 25 times of given number\n",
    "    \"\"\"\n",
    "    print(\"25 times: {}\".format(25*num))\n",
    "\n",
    "if __name__ == \"__main__\":\n",
    "    # creating processes\n",
    "    p1 = multiprocessing.Process(target=print_square, args=(10, ))\n",
    "    p2 = multiprocessing.Process(target=print_cube, args=(10, ))\n",
    "    p3 = multiprocessing.Process(target=print_25timesnumber, args=(10, ))\n",
    "    \n",
    "\n",
    "    # starting process 1\n",
    "    p1.start()\n",
    "    # starting process 2\n",
    "    p2.start()\n",
    "    # starting process 3\n",
    "    p3.start()\n",
    "\n",
    "    # wait until process 1 is finished\n",
    "    p1.join(timeout=5)\n",
    "    # wait until process 2 is finished\n",
    "    p2.join(timeout=4)\n",
    "    # wait until process 3 is finished\n",
    "    p3.join(timeout=3)\n",
    "    \n",
    "    now = datetime.now()\n",
    "    end_time = now.strftime(\"%H:%M:%S\")\n",
    "    print(\"Ending Time =\", end_time)\n",
    "\n",
    "    # all processes finished\n",
    "    print(\"Done!\")"
   ]
  },
  {
   "cell_type": "markdown",
   "metadata": {},
   "source": [
    "#### 7. Create a date object of your day of birth."
   ]
  },
  {
   "cell_type": "code",
   "execution_count": 1,
   "metadata": {},
   "outputs": [
    {
     "data": {
      "text/plain": [
       "Timestamp('1996-10-12 00:00:00')"
      ]
     },
     "execution_count": 1,
     "metadata": {},
     "output_type": "execute_result"
    }
   ],
   "source": [
    "#Answer:\n",
    "\n",
    "import pandas as pd\n",
    "\n",
    "birth_day = pd.to_datetime(\"1996-10-12\")\n",
    "\n",
    "birth_day"
   ]
  },
  {
   "cell_type": "markdown",
   "metadata": {},
   "source": [
    "#### 8. What day of the week was your day of birth?"
   ]
  },
  {
   "cell_type": "code",
   "execution_count": 2,
   "metadata": {},
   "outputs": [
    {
     "data": {
      "text/plain": [
       "'Saturday'"
      ]
     },
     "execution_count": 2,
     "metadata": {},
     "output_type": "execute_result"
    }
   ],
   "source": [
    "#Answer:\n",
    "\n",
    "week_day = birth_day.day_name()\n",
    "week_day"
   ]
  },
  {
   "cell_type": "markdown",
   "metadata": {},
   "source": [
    "#### 9. When will you be (or when were you) 10,000 days old?"
   ]
  },
  {
   "cell_type": "code",
   "execution_count": 6,
   "metadata": {},
   "outputs": [
    {
     "name": "stdout",
     "output_type": "stream",
     "text": [
      "I will be 10000 days old in: 2024-02-28 00:00:00\n"
     ]
    }
   ],
   "source": [
    "#Answer:\n",
    "\n",
    "from datetime import timedelta\n",
    "  \n",
    "end_date = birth_day + timedelta(days = 10000)\n",
    "\n",
    "print(f\"I will be 10000 days old in: {end_date}\")"
   ]
  },
  {
   "cell_type": "code",
   "execution_count": null,
   "metadata": {},
   "outputs": [],
   "source": []
  }
 ],
 "metadata": {
  "kernelspec": {
   "display_name": "Python 3",
   "language": "python",
   "name": "python3"
  },
  "language_info": {
   "codemirror_mode": {
    "name": "ipython",
    "version": 3
   },
   "file_extension": ".py",
   "mimetype": "text/x-python",
   "name": "python",
   "nbconvert_exporter": "python",
   "pygments_lexer": "ipython3",
   "version": "3.7.9"
  }
 },
 "nbformat": 4,
 "nbformat_minor": 4
}
