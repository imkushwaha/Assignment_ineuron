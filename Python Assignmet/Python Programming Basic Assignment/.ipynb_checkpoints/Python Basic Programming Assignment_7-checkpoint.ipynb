{
 "cells": [
  {
   "cell_type": "markdown",
   "metadata": {},
   "source": [
    "# Python Basic Programming Assignment_7"
   ]
  },
  {
   "cell_type": "markdown",
   "metadata": {},
   "source": [
    "#### 1.\tWrite a Python Program to find sum of array?"
   ]
  },
  {
   "cell_type": "code",
   "execution_count": 40,
   "metadata": {},
   "outputs": [
    {
     "name": "stdout",
     "output_type": "stream",
     "text": [
      "Enter your first extreme point: 0\n",
      "Enter your second extreme point: 10\n",
      "The array between range 0 and 10 is: [0 1 2 3 4 5 6 7 8 9]\n",
      "Sum of this given array is: 45\n"
     ]
    }
   ],
   "source": [
    "#Answer:\n",
    "\n",
    "#python program to find sum of array\n",
    "\n",
    "ext_point_1 = int(input(\"Enter your first extreme point: \"))\n",
    "\n",
    "ext_point_2 = int(input(\"Enter your second extreme point: \"))\n",
    "\n",
    "arr_range = range(ext_point_1,ext_point_2)\n",
    "\n",
    "arr = []\n",
    "\n",
    "for i in arr_range:\n",
    "    arr.append(i)\n",
    "    \n",
    "print(f\"The array between range {ext_point_1} and {ext_point_2} is: {arr}\")\n",
    "\n",
    "ans = sum(arr)\n",
    "\n",
    "print(f\"Sum of this given array is: {ans}\")"
   ]
  },
  {
   "cell_type": "markdown",
   "metadata": {},
   "source": [
    "#### 2.\tWrite a Python Program to find largest element in an array?"
   ]
  },
  {
   "cell_type": "code",
   "execution_count": 17,
   "metadata": {},
   "outputs": [
    {
     "name": "stdout",
     "output_type": "stream",
     "text": [
      "Enter your first extreme point: 23\n",
      "Enter your second extreme point: 33\n",
      "The array between range 23 and 33 is: [23, 24, 25, 26, 27, 28, 29, 30, 31, 32]\n",
      "The largest element of this given array is: 32\n"
     ]
    }
   ],
   "source": [
    "#Answer:\n",
    "\n",
    "#python program to find largest element in an array\n",
    "\n",
    "ext_point_1 = int(input(\"Enter your first extreme point: \"))\n",
    "\n",
    "ext_point_2 = int(input(\"Enter your second extreme point: \"))\n",
    "\n",
    "arr_range = range(ext_point_1,ext_point_2)\n",
    "\n",
    "arr = []\n",
    "\n",
    "for i in arr_range:\n",
    "    arr.append(i)\n",
    "\n",
    "print(f\"The array between range {ext_point_1} and {ext_point_2} is: {arr}\")\n",
    "\n",
    "ans = max(arr)\n",
    "\n",
    "print(f\"The largest element of this given array is: {ans}\")"
   ]
  },
  {
   "cell_type": "markdown",
   "metadata": {},
   "source": [
    "#### 3.\tWrite a Python Program for array rotation?"
   ]
  },
  {
   "cell_type": "code",
   "execution_count": 1,
   "metadata": {},
   "outputs": [],
   "source": [
    "#Answer:\n",
    "\n",
    "#python program for array rotation\n",
    "\n",
    "#Array Rotation means shifting the array elements to the left or right of the array by specified positions.\n",
    "#An array can be rotated to the left(clockwise) or to the right (anti-clockwise) to the given number of positions."
   ]
  },
  {
   "cell_type": "code",
   "execution_count": 2,
   "metadata": {},
   "outputs": [],
   "source": [
    "#Function to left Rotate arr[] of size n by 1 \n",
    "def leftRotatebyOne(arr, n):\n",
    "    temp = arr[0]\n",
    "    for i in range(n-1):\n",
    "        arr[i] = arr[i+1]\n",
    "    arr[n-1] = temp\n",
    "         \n",
    "#Function to left rotate arr[] of size n by d\n",
    "def leftRotate(arr, d, n):\n",
    "    for i in range(d):\n",
    "        leftRotatebyOne(arr, n)\n",
    "        \n",
    "    return arr"
   ]
  },
  {
   "cell_type": "code",
   "execution_count": 3,
   "metadata": {},
   "outputs": [],
   "source": [
    "#Function to Right Rotate arr[] of size n by 1 \n",
    "def RightRotatebyOne(arr, n):\n",
    "    temp = arr[n-1]\n",
    "    arr1 = arr.copy()\n",
    "    arr[0] = temp\n",
    "    for i in range(n-1):\n",
    "        arr[i+1] = arr1[i]\n",
    "\n",
    "#Function to Right rotate arr[] of size n by d\n",
    "def RightRotate(arr, d, n):\n",
    "    for i in range(d):\n",
    "        RightRotatebyOne(arr, n)\n",
    "    return arr"
   ]
  },
  {
   "cell_type": "code",
   "execution_count": 4,
   "metadata": {},
   "outputs": [
    {
     "name": "stdout",
     "output_type": "stream",
     "text": [
      "Enter your first extreme point: 1\n",
      "Enter your second extreme point: 11\n",
      "The array between range 1 and 11 is: [1, 2, 3, 4, 5, 6, 7, 8, 9, 10]\n",
      "Which kind of rotation you want to apply: left or right: right\n",
      "By what position you want to rotate: 3\n",
      "--------------------------------------------------\n",
      "The right rotation of given array with 3 position is: \n",
      "8 9 10 1 2 3 4 5 6 7 "
     ]
    }
   ],
   "source": [
    "#asking end points for array formation    \n",
    "\n",
    "ext_point_1 = int(input(\"Enter your first extreme point: \"))\n",
    "\n",
    "ext_point_2 = int(input(\"Enter your second extreme point: \"))\n",
    "\n",
    "arr_range = range(ext_point_1,ext_point_2)\n",
    "\n",
    "arr = []\n",
    "\n",
    "for i in arr_range:\n",
    "    arr.append(i)\n",
    "\n",
    "print(f\"The array between range {ext_point_1} and {ext_point_2} is: {arr}\")\n",
    "\n",
    "ask = str(input(\"Which kind of rotation you want to apply: left or right: \"))\n",
    "\n",
    "pos = int(input(\"By what position you want to rotate: \"))\n",
    "\n",
    "if ask == \"right\":\n",
    "    RightRotate(arr,pos,len(arr))\n",
    "else:\n",
    "    leftRotate(arr,pos,len(arr))\n",
    "    \n",
    "#Function to print an array \n",
    "def printArray(arr,size):\n",
    "    for i in range(size):\n",
    "        print (arr[i],end=\" \")    \n",
    "        \n",
    "print(\"--------------------------------------------------\")    \n",
    "print(f\"The {ask} rotation of given array with {pos} position is: \")   \n",
    "printArray(arr,len(arr))    "
   ]
  },
  {
   "cell_type": "markdown",
   "metadata": {},
   "source": [
    "#### 4.\tWrite a Python Program to Split the array and add the first part to the end?"
   ]
  },
  {
   "cell_type": "code",
   "execution_count": 11,
   "metadata": {},
   "outputs": [
    {
     "name": "stdout",
     "output_type": "stream",
     "text": [
      "Enter your first extreme point: 5\n",
      "Enter your second extreme point: 15\n",
      "The array between range 5 and 15 is: [5, 6, 7, 8, 9, 10, 11, 12, 13, 14]\n",
      "By what position you want to split the array: 3\n",
      "New array: First split part added to the end: [8, 9, 10, 11, 12, 13, 14, 5, 6, 7]\n"
     ]
    }
   ],
   "source": [
    "#Answer:\n",
    "\n",
    "#python program to split the array and add the first part to the end\n",
    "\n",
    "def leftRotatebyOne(arr, n):\n",
    "    temp = arr[0]\n",
    "    for i in range(n-1):\n",
    "        arr[i] = arr[i+1]\n",
    "    arr[n-1] = temp\n",
    "         \n",
    "#Function to left rotate arr[] of size n by d\n",
    "def SplitAddingArray(arr, d, n):\n",
    "    for i in range(d):\n",
    "        leftRotatebyOne(arr, n)\n",
    "        \n",
    "    return arr\n",
    "\n",
    "ext_point_1 = int(input(\"Enter your first extreme point: \"))\n",
    "\n",
    "ext_point_2 = int(input(\"Enter your second extreme point: \"))\n",
    "\n",
    "arr_range = range(ext_point_1,ext_point_2)\n",
    "\n",
    "arr = []\n",
    "\n",
    "for i in arr_range:\n",
    "    arr.append(i)\n",
    "\n",
    "print(f\"The array between range {ext_point_1} and {ext_point_2} is: {arr}\")\n",
    "\n",
    "pos = int(input(\"By what position you want to split the array: \"))\n",
    "\n",
    "\n",
    "#adding splitted first part to the end\n",
    "\n",
    "print(\"New array: First split part added to the end: {}\".format(SplitAddingArray(arr,pos,len(arr))))"
   ]
  },
  {
   "cell_type": "markdown",
   "metadata": {},
   "source": [
    "#### 5.\tWrite a Python Program to check if given array is Monotonic?"
   ]
  },
  {
   "cell_type": "code",
   "execution_count": 18,
   "metadata": {},
   "outputs": [
    {
     "name": "stdout",
     "output_type": "stream",
     "text": [
      "Given array [8, 7, 6, 5, 4, 3, 2, 1] is Monotonic\n"
     ]
    }
   ],
   "source": [
    "#Answer:\n",
    "\n",
    "#python program to check if given array is Monotonic\n",
    "\n",
    "#An array is said to be monotonic in nature if it is either continuously increasing or continuously decreasing.\n",
    "\n",
    "def isMonotonic(arr):\n",
    "    return (all(arr[i] <= arr[i + 1] for i in range(len(arr) - 1)) or\n",
    "      all(arr[i] >= arr[i + 1] for i in range(len(arr) - 1)))\n",
    "\n",
    "arr = [8,7,6,5,4,3,2,1]\n",
    "\n",
    "if isMonotonic(arr) == True:\n",
    "    print(f\"Given array {arr} is Monotonic\")\n",
    "else:\n",
    "    print(f\"Given array {arr} is not Monotonic\")"
   ]
  },
  {
   "cell_type": "code",
   "execution_count": null,
   "metadata": {},
   "outputs": [],
   "source": []
  }
 ],
 "metadata": {
  "kernelspec": {
   "display_name": "Python 3",
   "language": "python",
   "name": "python3"
  },
  "language_info": {
   "codemirror_mode": {
    "name": "ipython",
    "version": 3
   },
   "file_extension": ".py",
   "mimetype": "text/x-python",
   "name": "python",
   "nbconvert_exporter": "python",
   "pygments_lexer": "ipython3",
   "version": "3.7.9"
  }
 },
 "nbformat": 4,
 "nbformat_minor": 4
}
