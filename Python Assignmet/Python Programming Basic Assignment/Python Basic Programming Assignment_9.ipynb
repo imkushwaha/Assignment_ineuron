{
 "cells": [
  {
   "cell_type": "markdown",
   "metadata": {},
   "source": [
    "# Python Basic Programming Assignment_9"
   ]
  },
  {
   "cell_type": "markdown",
   "metadata": {},
   "source": [
    "#### 1.\tWrite a Python program to check if the given number is a Disarium Number?"
   ]
  },
  {
   "cell_type": "code",
   "execution_count": 52,
   "metadata": {},
   "outputs": [
    {
     "name": "stdout",
     "output_type": "stream",
     "text": [
      "89 is a disarium number\n"
     ]
    }
   ],
   "source": [
    "#Answer:\n",
    "\n",
    "# program to check if the gien number is a Disarium Number\n",
    "\n",
    "# Disarium Number: Sum of its digits powered with their respective position is equal to the original number. \n",
    "# Some other DISARIUM are 89, 175, 518 etc. 89 == 8**1 + 9**2\n",
    "\n",
    "def Length(n):    \n",
    "    length = 0   \n",
    "    while(n != 0):    \n",
    "        length = length + 1  \n",
    "        n = n//10;    \n",
    "    return length;    \n",
    "       \n",
    "     \n",
    "def isDisarium(num):\n",
    "    len = Length(num)\n",
    "    rem = 0\n",
    "    sum = 0\n",
    "    n= num\n",
    "\n",
    "    while(num > 0):\n",
    "        rem = num%10    \n",
    "        sum = sum + int(rem**len)    \n",
    "        num = num//10   \n",
    "        len = len - 1\n",
    "    \n",
    "    \n",
    "    if(sum==n):\n",
    "        print(str(n) + \" is a disarium number\")\n",
    "        \n",
    "    else:\n",
    "        print(str(n) + \" is not a disarium number\")    \n",
    "        \n",
    "isDisarium(89)        "
   ]
  },
  {
   "cell_type": "markdown",
   "metadata": {},
   "source": [
    "#### 2.\tWrite a Python program to print all disarium numbers between 1 to 100?"
   ]
  },
  {
   "cell_type": "code",
   "execution_count": 53,
   "metadata": {},
   "outputs": [
    {
     "name": "stdout",
     "output_type": "stream",
     "text": [
      "All disarium numbers between 0 and 100 are: [0, 1, 2, 3, 4, 5, 6, 7, 8, 9, 89]\n"
     ]
    }
   ],
   "source": [
    "#Answer:\n",
    "\n",
    "# program to print all disarium numbers between 1 to 100\n",
    "\n",
    "def Length(n):    \n",
    "    length = 0   \n",
    "    while(n != 0):    \n",
    "        length = length + 1  \n",
    "        n = n//10;    \n",
    "    return length;    \n",
    "       \n",
    "     \n",
    "def isDisarium(num):\n",
    "    len = Length(num)\n",
    "    rem = 0\n",
    "    sum = 0\n",
    "    n= num\n",
    "\n",
    "    while(num > 0):\n",
    "        rem = num%10    \n",
    "        sum = sum + int(rem**len)    \n",
    "        num = num//10   \n",
    "        len = len - 1\n",
    "    \n",
    "    \n",
    "    if(sum==n):\n",
    "        return True\n",
    "    \n",
    "    else:\n",
    "        return False\n",
    "\n",
    "l = []\n",
    "for i in filter(isdisarium,range(0,101)):\n",
    "    if True:\n",
    "        l.append(i)\n",
    "print(\"All disarium numbers between 0 and 100 are:\",l)    "
   ]
  },
  {
   "cell_type": "markdown",
   "metadata": {},
   "source": [
    "#### 3.\tWrite a Python program to check if the given number is Happy Number?"
   ]
  },
  {
   "cell_type": "code",
   "execution_count": 1,
   "metadata": {},
   "outputs": [
    {
     "name": "stdout",
     "output_type": "stream",
     "text": [
      "82 is a happy number\n"
     ]
    }
   ],
   "source": [
    "#Answer:\n",
    "\n",
    "# proram to check if the given number is Happy Number\n",
    "\n",
    "# In number theory, a happy number is a number which eventually reaches 1 when \n",
    "# replaced by the sum of the square of each digit.\n",
    "\n",
    "# Ex: 7, 49, 97, 130, 10, 1, \n",
    "\n",
    "\n",
    "def isHappyNumber(num):    \n",
    "    rem = sum = 0 \n",
    "        \n",
    "    #Calculates the sum of squares of digits    \n",
    "    while(num > 0):    \n",
    "        rem = num%10   \n",
    "        sum = sum + (rem*rem)  \n",
    "        num = num//10  \n",
    "    return sum   \n",
    "        \n",
    "\n",
    "def happy_num(num):\n",
    "    result = num\n",
    "    while(result != 1 and result != 4):\n",
    "        result = isHappyNumber(result)\n",
    "        \n",
    "    if(result == 1):\n",
    "        print(str(num) + \" is a happy number\")\n",
    "\n",
    "        \n",
    "    elif(result == 4):\n",
    "        print(str(num) + \" is not a happy number\")\n",
    "        \n",
    "happy_num(82)        "
   ]
  },
  {
   "cell_type": "markdown",
   "metadata": {},
   "source": [
    "#### 4.\tWrite a Python program to print all happy numbers between 1 and 100?"
   ]
  },
  {
   "cell_type": "code",
   "execution_count": 2,
   "metadata": {},
   "outputs": [
    {
     "ename": "KeyboardInterrupt",
     "evalue": "",
     "output_type": "error",
     "traceback": [
      "\u001b[1;31m---------------------------------------------------------------------------\u001b[0m",
      "\u001b[1;31mKeyboardInterrupt\u001b[0m                         Traceback (most recent call last)",
      "\u001b[1;32m<ipython-input-2-6673fc6b0b50>\u001b[0m in \u001b[0;36m<module>\u001b[1;34m\u001b[0m\n\u001b[0;32m     27\u001b[0m \u001b[1;33m\u001b[0m\u001b[0m\n\u001b[0;32m     28\u001b[0m \u001b[0ml\u001b[0m \u001b[1;33m=\u001b[0m \u001b[1;33m[\u001b[0m\u001b[1;33m]\u001b[0m\u001b[1;33m\u001b[0m\u001b[1;33m\u001b[0m\u001b[0m\n\u001b[1;32m---> 29\u001b[1;33m \u001b[1;32mfor\u001b[0m \u001b[0mi\u001b[0m \u001b[1;32min\u001b[0m \u001b[0mfilter\u001b[0m\u001b[1;33m(\u001b[0m\u001b[0mhappy_num\u001b[0m\u001b[1;33m,\u001b[0m\u001b[0mrange\u001b[0m\u001b[1;33m(\u001b[0m\u001b[1;36m11\u001b[0m\u001b[1;33m)\u001b[0m\u001b[1;33m)\u001b[0m\u001b[1;33m:\u001b[0m\u001b[1;33m\u001b[0m\u001b[1;33m\u001b[0m\u001b[0m\n\u001b[0m\u001b[0;32m     30\u001b[0m     \u001b[1;32mif\u001b[0m \u001b[1;32mTrue\u001b[0m\u001b[1;33m:\u001b[0m\u001b[1;33m\u001b[0m\u001b[1;33m\u001b[0m\u001b[0m\n\u001b[0;32m     31\u001b[0m         \u001b[0ml\u001b[0m\u001b[1;33m.\u001b[0m\u001b[0mappend\u001b[0m\u001b[1;33m(\u001b[0m\u001b[0mi\u001b[0m\u001b[1;33m)\u001b[0m\u001b[1;33m\u001b[0m\u001b[1;33m\u001b[0m\u001b[0m\n",
      "\u001b[1;32m<ipython-input-2-6673fc6b0b50>\u001b[0m in \u001b[0;36mhappy_num\u001b[1;34m(num)\u001b[0m\n\u001b[0;32m     17\u001b[0m     \u001b[0mresult\u001b[0m \u001b[1;33m=\u001b[0m \u001b[0mnum\u001b[0m\u001b[1;33m\u001b[0m\u001b[1;33m\u001b[0m\u001b[0m\n\u001b[0;32m     18\u001b[0m     \u001b[1;32mwhile\u001b[0m\u001b[1;33m(\u001b[0m\u001b[0mresult\u001b[0m \u001b[1;33m!=\u001b[0m \u001b[1;36m1\u001b[0m \u001b[1;32mand\u001b[0m \u001b[0mresult\u001b[0m \u001b[1;33m!=\u001b[0m \u001b[1;36m4\u001b[0m\u001b[1;33m)\u001b[0m\u001b[1;33m:\u001b[0m\u001b[1;33m\u001b[0m\u001b[1;33m\u001b[0m\u001b[0m\n\u001b[1;32m---> 19\u001b[1;33m         \u001b[0mresult\u001b[0m \u001b[1;33m=\u001b[0m \u001b[0misHappyNumber\u001b[0m\u001b[1;33m(\u001b[0m\u001b[0mresult\u001b[0m\u001b[1;33m)\u001b[0m\u001b[1;33m\u001b[0m\u001b[1;33m\u001b[0m\u001b[0m\n\u001b[0m\u001b[0;32m     20\u001b[0m \u001b[1;33m\u001b[0m\u001b[0m\n\u001b[0;32m     21\u001b[0m     \u001b[1;32mif\u001b[0m\u001b[1;33m(\u001b[0m\u001b[0mresult\u001b[0m \u001b[1;33m==\u001b[0m \u001b[1;36m1\u001b[0m\u001b[1;33m)\u001b[0m\u001b[1;33m:\u001b[0m\u001b[1;33m\u001b[0m\u001b[1;33m\u001b[0m\u001b[0m\n",
      "\u001b[1;31mKeyboardInterrupt\u001b[0m: "
     ]
    }
   ],
   "source": [
    "#Answer:\n",
    "\n",
    "# program to print all happy numbers between 1 and 100\n",
    "\n",
    "def isHappyNumber(num):    \n",
    "    rem = sum = 0;    \n",
    "        \n",
    "    #Calculates the sum of squares of digits    \n",
    "    while(num > 0):    \n",
    "        rem = num%10;    \n",
    "        sum = sum + (rem*rem);    \n",
    "        num = num//10;    \n",
    "    return sum;    \n",
    "        \n",
    "\n",
    "def happy_num(num):\n",
    "    result = num\n",
    "    while(result != 1 and result != 4):\n",
    "        result = isHappyNumber(result)\n",
    "        \n",
    "    if(result == 1):\n",
    "        return True\n",
    "\n",
    "        \n",
    "    elif(result == 4):\n",
    "        return False\n",
    "\n",
    "l = []\n",
    "for i in filter(happy_num,range(11)):\n",
    "    if True:\n",
    "        l.append(i)\n",
    "        \n",
    "print(\"All happy numbers between 0 and 100 are:\",l)            "
   ]
  },
  {
   "cell_type": "markdown",
   "metadata": {},
   "source": [
    "#### 5.\tWrite a Python program to determine whether the given number is a Harshad Number?"
   ]
  },
  {
   "cell_type": "code",
   "execution_count": 7,
   "metadata": {},
   "outputs": [],
   "source": [
    "#Answer:\n",
    "\n",
    "\n"
   ]
  },
  {
   "cell_type": "markdown",
   "metadata": {},
   "source": [
    "#### 6.\tWrite a Python program to print all pronic numbers between 1 and 100?"
   ]
  },
  {
   "cell_type": "code",
   "execution_count": 8,
   "metadata": {},
   "outputs": [],
   "source": [
    "#Answer:\n",
    "\n",
    "\n"
   ]
  },
  {
   "cell_type": "code",
   "execution_count": null,
   "metadata": {},
   "outputs": [],
   "source": []
  }
 ],
 "metadata": {
  "kernelspec": {
   "display_name": "Python 3",
   "language": "python",
   "name": "python3"
  },
  "language_info": {
   "codemirror_mode": {
    "name": "ipython",
    "version": 3
   },
   "file_extension": ".py",
   "mimetype": "text/x-python",
   "name": "python",
   "nbconvert_exporter": "python",
   "pygments_lexer": "ipython3",
   "version": "3.7.9"
  }
 },
 "nbformat": 4,
 "nbformat_minor": 4
}
