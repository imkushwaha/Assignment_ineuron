{
 "cells": [
  {
   "cell_type": "markdown",
   "metadata": {},
   "source": [
    "# Python Basic Programming Assignment_7"
   ]
  },
  {
   "cell_type": "markdown",
   "metadata": {},
   "source": [
    "#### 1.\tWrite a Python Program to find sum of array?"
   ]
  },
  {
   "cell_type": "code",
   "execution_count": 40,
   "metadata": {},
   "outputs": [
    {
     "name": "stdout",
     "output_type": "stream",
     "text": [
      "Enter your first extreme point: 0\n",
      "Enter your second extreme point: 10\n",
      "The array between range 0 and 10 is: [0 1 2 3 4 5 6 7 8 9]\n",
      "Sum of this given array is: 45\n"
     ]
    }
   ],
   "source": [
    "#Answer:\n",
    "\n",
    "#python program to find sum of array\n",
    "\n",
    "ext_point_1 = int(input(\"Enter your first extreme point: \"))\n",
    "\n",
    "ext_point_2 = int(input(\"Enter your second extreme point: \"))\n",
    "\n",
    "arr_range = range(ext_point_1,ext_point_2)\n",
    "\n",
    "arr = []\n",
    "\n",
    "for i in arr_range:\n",
    "    arr.append(i)\n",
    "    \n",
    "print(f\"The array between range {ext_point_1} and {ext_point_2} is: {arr}\")\n",
    "\n",
    "ans = sum(arr)\n",
    "\n",
    "print(f\"Sum of this given array is: {ans}\")"
   ]
  },
  {
   "cell_type": "markdown",
   "metadata": {},
   "source": [
    "#### 2.\tWrite a Python Program to find largest element in an array?"
   ]
  },
  {
   "cell_type": "code",
   "execution_count": 17,
   "metadata": {},
   "outputs": [
    {
     "name": "stdout",
     "output_type": "stream",
     "text": [
      "Enter your first extreme point: 23\n",
      "Enter your second extreme point: 33\n",
      "The array between range 23 and 33 is: [23, 24, 25, 26, 27, 28, 29, 30, 31, 32]\n",
      "The largest element of this given array is: 32\n"
     ]
    }
   ],
   "source": [
    "#Answer:\n",
    "\n",
    "#python program to find largest element in an array\n",
    "\n",
    "ext_point_1 = int(input(\"Enter your first extreme point: \"))\n",
    "\n",
    "ext_point_2 = int(input(\"Enter your second extreme point: \"))\n",
    "\n",
    "arr_range = range(ext_point_1,ext_point_2)\n",
    "\n",
    "arr = []\n",
    "\n",
    "for i in arr_range:\n",
    "    arr.append(i)\n",
    "\n",
    "print(f\"The array between range {ext_point_1} and {ext_point_2} is: {arr}\")\n",
    "\n",
    "ans = max(arr)\n",
    "\n",
    "print(f\"The largest element of this given array is: {ans}\")"
   ]
  },
  {
   "cell_type": "markdown",
   "metadata": {},
   "source": [
    "#### 3.\tWrite a Python Program for array rotation?"
   ]
  },
  {
   "cell_type": "code",
   "execution_count": 41,
   "metadata": {},
   "outputs": [
    {
     "name": "stdout",
     "output_type": "stream",
     "text": [
      "3 4 5 6 7 1 2 "
     ]
    }
   ],
   "source": [
    "#Answer:\n",
    "\n",
    "#python program for array rotation\n",
    "\n",
    "\n",
    "#Function to left Rotate arr[] of size n by 1*/ \n",
    "def leftRotatebyOne(arr, n):\n",
    "    temp = arr[0]\n",
    "    for i in range(n-1):\n",
    "        arr[i] = arr[i+1]\n",
    "    arr[n-1] = temp\n",
    "         \n",
    "#Function to left rotate arr[] of size n by d*/\n",
    "def leftRotate(arr, d, n):\n",
    "    for i in range(d):\n",
    "        leftRotatebyOne(arr, n)\n",
    " \n",
    " \n",
    "# utility function to print an array */\n",
    "def printArray(arr,size):\n",
    "    for i in range(size):\n",
    "        print (\"%d\"% arr[i],end=\" \")\n",
    " \n",
    "  \n",
    "# Driver program to test above functions */\n",
    "arr = [1, 2, 3, 4, 5, 6, 7]\n",
    "leftRotate(arr, 2, 7)\n",
    "printArray(arr, 7)"
   ]
  },
  {
   "cell_type": "code",
   "execution_count": 49,
   "metadata": {},
   "outputs": [],
   "source": [
    "#Function to left Rotate arr[] of size n by 1*/ \n",
    "def leftRotatebyOne(arr, n):\n",
    "    temp = arr[0]\n",
    "    for i in range(n-1):\n",
    "        arr[i] = arr[i+1]\n",
    "    arr[n-1] = temp"
   ]
  },
  {
   "cell_type": "code",
   "execution_count": 50,
   "metadata": {},
   "outputs": [
    {
     "name": "stdout",
     "output_type": "stream",
     "text": [
      "2 3 4 5 6 7 8 1 "
     ]
    }
   ],
   "source": [
    "arr = [1,2,3,4,5,6,7,8]\n",
    "\n",
    "leftRotatebyOne(arr,8)\n",
    "printArray(arr,8)"
   ]
  },
  {
   "cell_type": "code",
   "execution_count": 51,
   "metadata": {},
   "outputs": [
    {
     "data": {
      "text/plain": [
       "2"
      ]
     },
     "execution_count": 51,
     "metadata": {},
     "output_type": "execute_result"
    }
   ],
   "source": [
    "arr[0]"
   ]
  },
  {
   "cell_type": "markdown",
   "metadata": {},
   "source": [
    "#### 4.\tWrite a Python Program to Split the array and add the first part to the end?"
   ]
  },
  {
   "cell_type": "code",
   "execution_count": 4,
   "metadata": {},
   "outputs": [],
   "source": [
    "#Answer:\n",
    "\n",
    "#python program to split the array and add the first part to the end\n",
    "\n"
   ]
  },
  {
   "cell_type": "markdown",
   "metadata": {},
   "source": [
    "#### 5.\tWrite a Python Program to check if given array is Monotonic?"
   ]
  },
  {
   "cell_type": "code",
   "execution_count": 6,
   "metadata": {},
   "outputs": [],
   "source": [
    "#Answer:\n",
    "\n",
    "#python program to check if given array is Monotonic\n",
    "\n"
   ]
  },
  {
   "cell_type": "code",
   "execution_count": null,
   "metadata": {},
   "outputs": [],
   "source": []
  }
 ],
 "metadata": {
  "kernelspec": {
   "display_name": "Python 3",
   "language": "python",
   "name": "python3"
  },
  "language_info": {
   "codemirror_mode": {
    "name": "ipython",
    "version": 3
   },
   "file_extension": ".py",
   "mimetype": "text/x-python",
   "name": "python",
   "nbconvert_exporter": "python",
   "pygments_lexer": "ipython3",
   "version": "3.7.9"
  }
 },
 "nbformat": 4,
 "nbformat_minor": 4
}
