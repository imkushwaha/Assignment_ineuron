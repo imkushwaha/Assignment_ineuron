{
 "cells": [
  {
   "cell_type": "markdown",
   "metadata": {},
   "source": [
    "#### 1. What are the differences between operators and values in the following?\n",
    "- *\n",
    "- 'hello'\n",
    "- -87.8\n",
    "- -\n",
    "- /\n",
    "- +\n",
    "- 6\n"
   ]
  },
  {
   "cell_type": "markdown",
   "metadata": {},
   "source": [
    "Answer : Operators like \"*\", \"-\", \"/\", \"+\" are used to perform mathematical operations like \n",
    "\n",
    "- \"*\" is used for multiplication\n",
    "\n",
    "- \"-\" is used for subtraction\n",
    "\n",
    "- \"/\" is used for division\n",
    "\n",
    "- \"+\" is used for addition\n",
    "\n",
    "\n",
    "and here given vaues such as \"hello\", -87.8 and 6 all are of different data type which we require while performing calculation.\n",
    "\n",
    "- \"hello\" is of string data type\n",
    "\n",
    "- -87.8 is of float data type\n",
    "\n",
    "- 6 is of integer data type"
   ]
  },
  {
   "cell_type": "markdown",
   "metadata": {},
   "source": [
    "#### 2. What is the difference between string and variable?\n",
    "- spam\n",
    "- 'spam'\n"
   ]
  },
  {
   "cell_type": "markdown",
   "metadata": {},
   "source": [
    "Answer: String is a data type which store charater variable in it provided in single or double quote.\n",
    "\n",
    "Variable is a place holder which can hold any provided value in it."
   ]
  },
  {
   "cell_type": "markdown",
   "metadata": {},
   "source": [
    "#### 3. Describe three different data forms?"
   ]
  },
  {
   "cell_type": "markdown",
   "metadata": {},
   "source": [
    "Answer: Three different data forms are: (1) List (2) Tuples (3) Dictionary\n",
    "\n",
    "- List: List is data form which can take variables of different data type in ordered sequence. It is mutable, or changeable. Each element or value that is inside of a list is called an item. For list we use [] bracket.\n",
    "\n",
    "\n",
    "- Tuples: Tuple in python is a data strcuture which can take data  of different types but it is not mutable or changeable.\n",
    "  For tuple we use () bracket.\n",
    "  \n",
    "\n",
    "- Dictionary: Dictionary store data in key-value pairs. Each key-value pair maps the key to its associated value. For making dictionary in python we use {} bracket."
   ]
  },
  {
   "cell_type": "markdown",
   "metadata": {},
   "source": [
    "#### 4. What makes up an expression? What are the functions of all expressions?"
   ]
  },
  {
   "cell_type": "markdown",
   "metadata": {},
   "source": [
    "Answer: In python to make up an expression we require operators and operands both. Operands are basically value that an operator acts on. A sequence of operands and operators, like m + n - 25 , is called an expression.\n",
    "\n",
    "Functions of expressions are to perform certain task and also used to design user defined functions."
   ]
  },
  {
   "cell_type": "markdown",
   "metadata": {},
   "source": [
    "#### 5. In this chapter, assignment statements such as spam = 10 were added. What's the difference between a declaration and an expression?\n",
    "\n"
   ]
  },
  {
   "cell_type": "markdown",
   "metadata": {},
   "source": [
    "Answer: Declaration means we have assigned a variable to certain value, and whenever that variable will be called, python is going to print that particular value. Example spam = 10  \n",
    "\n",
    "Expression is a combination of operators and operands, which does not assigned to any single value.Its value changes as operands take different values. Like m + n -50 is an expression which value depend on m and n."
   ]
  },
  {
   "cell_type": "markdown",
   "metadata": {},
   "source": [
    "#### 6. After running the following code, what does the variable bacon contain?\n",
    "####      bacon = 22\n",
    "####      bacon + 1"
   ]
  },
  {
   "cell_type": "markdown",
   "metadata": {},
   "source": [
    "Answer: bacon will contain 23"
   ]
  },
  {
   "cell_type": "markdown",
   "metadata": {},
   "source": [
    "#### 7. What should the values of the following two terms be?\n",
    "\n",
    "#### 'spam' + 'spamspam'\n",
    "#### 'spam' * 3\n"
   ]
  },
  {
   "cell_type": "markdown",
   "metadata": {},
   "source": [
    "Answer:\n",
    "\n",
    "\"spam\" + \"spamspam\"  = 'spamspamspam'\n",
    "\n",
    "\"spam\"*3 = 'spamspamspam'"
   ]
  },
  {
   "cell_type": "markdown",
   "metadata": {},
   "source": [
    "#### 8. Why is it that eggs is a true variable name but 100 is not?"
   ]
  },
  {
   "cell_type": "markdown",
   "metadata": {},
   "source": [
    "Answer: eggs is a true variable name but 100 is not because variable names cannot begin with a number."
   ]
  },
  {
   "cell_type": "markdown",
   "metadata": {},
   "source": [
    "#### 9. Which of the following three functions may be used to convert a value to an integer, a floating-point number, or a string?"
   ]
  },
  {
   "cell_type": "markdown",
   "metadata": {},
   "source": [
    "Answer: int() function used to convert a value to an integer."
   ]
  },
  {
   "cell_type": "markdown",
   "metadata": {},
   "source": [
    "#### 10. What is the error caused by this expression? What would you do about it?\n",
    "\n",
    "#### 'I have eaten ' + 99 + ' burritos.'\n"
   ]
  },
  {
   "cell_type": "markdown",
   "metadata": {},
   "source": [
    "Answer: Concatenate error we will get here, because string get concatenated with string only.\n",
    "    \n",
    "To resolve this issue we need to type cast 99 to string..i.e str(99)"
   ]
  },
  {
   "cell_type": "code",
   "execution_count": null,
   "metadata": {},
   "outputs": [],
   "source": []
  }
 ],
 "metadata": {
  "kernelspec": {
   "display_name": "Python 3",
   "language": "python",
   "name": "python3"
  },
  "language_info": {
   "codemirror_mode": {
    "name": "ipython",
    "version": 3
   },
   "file_extension": ".py",
   "mimetype": "text/x-python",
   "name": "python",
   "nbconvert_exporter": "python",
   "pygments_lexer": "ipython3",
   "version": "3.7.9"
  }
 },
 "nbformat": 4,
 "nbformat_minor": 4
}
